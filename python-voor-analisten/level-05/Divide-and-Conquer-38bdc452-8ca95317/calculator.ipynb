{
 "cells": [
  {
   "cell_type": "markdown",
   "id": "3ef8ac2d-7240-4048-92a6-bb86dc81f6d5",
   "metadata": {},
   "source": [
    "# Divide and Conquer"
   ]
  },
  {
   "cell_type": "code",
   "execution_count": 11,
   "id": "e270d95a-4ab1-4524-952a-fba2cc961e53",
   "metadata": {},
   "outputs": [],
   "source": [
    "kosten = 10 \n",
    "aantal_personen = 0"
   ]
  },
  {
   "cell_type": "markdown",
   "id": "a5b29ad5-c37e-4c20-bca6-f885bca03e4a",
   "metadata": {},
   "source": [
    "Stap 3"
   ]
  },
  {
   "cell_type": "code",
   "execution_count": 12,
   "id": "8cde5649-39d9-4b2c-8b00-f13e70b82321",
   "metadata": {},
   "outputs": [
    {
     "data": {
      "text/plain": [
       "True"
      ]
     },
     "execution_count": 12,
     "metadata": {},
     "output_type": "execute_result"
    }
   ],
   "source": [
    "aantal_personen == 0"
   ]
  },
  {
   "cell_type": "markdown",
   "id": "30c1cb73-647d-4db4-a1b0-6380c780fb40",
   "metadata": {},
   "source": [
    "Deel alleen als het aantal personen niet 0 is."
   ]
  },
  {
   "cell_type": "code",
   "execution_count": 13,
   "id": "0de2a075-2e56-4384-b079-c257255a4939",
   "metadata": {},
   "outputs": [
    {
     "name": "stdout",
     "output_type": "stream",
     "text": [
      "Kan niet delen door 0\n"
     ]
    }
   ],
   "source": [
    "if aantal_personen == 0:\n",
    "    print(\"Kan niet delen door 0\")\n",
    "else: \n",
    "    print(kosten/aantal_personen)"
   ]
  },
  {
   "cell_type": "code",
   "execution_count": null,
   "id": "cc8a4e77-1aa4-42da-b0d3-0379d3d85524",
   "metadata": {},
   "outputs": [],
   "source": []
  }
 ],
 "metadata": {
  "kernelspec": {
   "display_name": "Python 3 (ipykernel)",
   "language": "python",
   "name": "python3"
  },
  "language_info": {
   "codemirror_mode": {
    "name": "ipython",
    "version": 3
   },
   "file_extension": ".py",
   "mimetype": "text/x-python",
   "name": "python",
   "nbconvert_exporter": "python",
   "pygments_lexer": "ipython3",
   "version": "3.11.3"
  }
 },
 "nbformat": 4,
 "nbformat_minor": 5
}
