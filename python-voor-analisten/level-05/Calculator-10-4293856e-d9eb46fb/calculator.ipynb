{
 "cells": [
  {
   "cell_type": "markdown",
   "id": "419cc4a6-1797-462e-8b15-e5535115c974",
   "metadata": {},
   "source": [
    "# Calculator 1.0"
   ]
  },
  {
   "cell_type": "markdown",
   "id": "94e7d28a-dfa6-4b1f-b8c9-11bee2b04893",
   "metadata": {},
   "source": [
    "Vraag de gebruiker input."
   ]
  },
  {
   "cell_type": "code",
   "execution_count": 7,
   "id": "2f0f156d-54f8-49d2-9940-3d2bc2a71b8f",
   "metadata": {},
   "outputs": [
    {
     "name": "stdout",
     "output_type": "stream",
     "text": [
      "Operatie?\n"
     ]
    },
    {
     "name": "stdin",
     "output_type": "stream",
     "text": [
      " %\n"
     ]
    },
    {
     "name": "stdout",
     "output_type": "stream",
     "text": [
      "Eerste getal?\n"
     ]
    },
    {
     "name": "stdin",
     "output_type": "stream",
     "text": [
      " 12\n"
     ]
    },
    {
     "name": "stdout",
     "output_type": "stream",
     "text": [
      "Tweede getal??\n"
     ]
    },
    {
     "name": "stdin",
     "output_type": "stream",
     "text": [
      " 4\n"
     ]
    }
   ],
   "source": [
    "print(\"Operatie?\")\n",
    "operation = input()\n",
    "\n",
    "\n",
    "print(\"Eerste getal?\")\n",
    "getal_1 = float(input())\n",
    "\n",
    "print(\"Tweede getal??\")\n",
    "getal_2 = float(input())\n"
   ]
  },
  {
   "cell_type": "markdown",
   "id": "ade14da8-0b3f-408f-801c-c68c5a9fc5fc",
   "metadata": {},
   "source": [
    "Run de berekening!"
   ]
  },
  {
   "cell_type": "code",
   "execution_count": 8,
   "id": "2544d326-4b39-457d-9434-df4a26784104",
   "metadata": {},
   "outputs": [
    {
     "name": "stdout",
     "output_type": "stream",
     "text": [
      "0.0\n"
     ]
    }
   ],
   "source": [
    "if operation == \"/\":\n",
    "    if getal_2 == 0:\n",
    "        print(\"Er mag niet gedeeld worden door 0\")\n",
    "    else: \n",
    "        print( getal_1 / getal_2)\n",
    "elif operation == \"+\": \n",
    "    print( getal_1 + getal_2)\n",
    "elif operation == \"*\": \n",
    "    print( getal_1 * getal_2)\n",
    "elif operation == \"%\": \n",
    "    print( getal_1 % getal_2)\n",
    "elif operation == \"-\": \n",
    "    print( getal_1 - getal_2)\n",
    "\n",
    "else:\n",
    "    print(\"Operation wordt 'nog' niet ondersteund\")\n",
    "    "
   ]
  }
 ],
 "metadata": {
  "kernelspec": {
   "display_name": "Python 3 (ipykernel)",
   "language": "python",
   "name": "python3"
  },
  "language_info": {
   "codemirror_mode": {
    "name": "ipython",
    "version": 3
   },
   "file_extension": ".py",
   "mimetype": "text/x-python",
   "name": "python",
   "nbconvert_exporter": "python",
   "pygments_lexer": "ipython3",
   "version": "3.11.3"
  }
 },
 "nbformat": 4,
 "nbformat_minor": 5
}
