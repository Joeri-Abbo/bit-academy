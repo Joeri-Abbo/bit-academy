{
 "cells": [
  {
   "cell_type": "markdown",
   "id": "419cc4a6-1797-462e-8b15-e5535115c974",
   "metadata": {},
   "source": [
    "# Calculator start"
   ]
  },
  {
   "cell_type": "markdown",
   "id": "94e7d28a-dfa6-4b1f-b8c9-11bee2b04893",
   "metadata": {},
   "source": [
    "Vraag de gebruiker input."
   ]
  },
  {
   "cell_type": "code",
   "execution_count": 2,
   "id": "2f0f156d-54f8-49d2-9940-3d2bc2a71b8f",
   "metadata": {},
   "outputs": [
    {
     "name": "stdout",
     "output_type": "stream",
     "text": [
      "Operatie?\n"
     ]
    },
    {
     "name": "stdin",
     "output_type": "stream",
     "text": [
      " *\n"
     ]
    },
    {
     "name": "stdout",
     "output_type": "stream",
     "text": [
      "Eerste getal?\n"
     ]
    },
    {
     "name": "stdin",
     "output_type": "stream",
     "text": [
      " 12\n"
     ]
    },
    {
     "name": "stdout",
     "output_type": "stream",
     "text": [
      "Tweede getal??\n"
     ]
    },
    {
     "name": "stdin",
     "output_type": "stream",
     "text": [
      " 13\n"
     ]
    }
   ],
   "source": [
    "print(\"Operatie?\")\n",
    "operation = input()\n",
    "\n",
    "\n",
    "print(\"Eerste getal?\")\n",
    "getal_1 = float(input())\n",
    "\n",
    "print(\"Tweede getal??\")\n",
    "getal_2 = float(input())\n"
   ]
  },
  {
   "cell_type": "markdown",
   "id": "ade14da8-0b3f-408f-801c-c68c5a9fc5fc",
   "metadata": {},
   "source": [
    "Als het goed is. hebben de getallen datatype float."
   ]
  },
  {
   "cell_type": "code",
   "execution_count": 3,
   "id": "2544d326-4b39-457d-9434-df4a26784104",
   "metadata": {},
   "outputs": [
    {
     "ename": "NameError",
     "evalue": "name 'getal_1' is not defined",
     "output_type": "error",
     "traceback": [
      "\u001b[0;31m---------------------------------------------------------------------------\u001b[0m",
      "\u001b[0;31mNameError\u001b[0m                                 Traceback (most recent call last)",
      "Cell \u001b[0;32mIn[3], line 1\u001b[0m\n\u001b[0;32m----> 1\u001b[0m \u001b[38;5;28mprint\u001b[39m(\u001b[38;5;28mtype\u001b[39m(\u001b[43mgetal_1\u001b[49m))\n\u001b[1;32m      2\u001b[0m \u001b[38;5;28mprint\u001b[39m(\u001b[38;5;28mtype\u001b[39m(getal_1))\n",
      "\u001b[0;31mNameError\u001b[0m: name 'getal_1' is not defined"
     ]
    }
   ],
   "source": [
    "print(type(getal_1))\n",
    "print(type(getal_2))"
   ]
  },
  {
   "cell_type": "code",
   "execution_count": null,
   "id": "8ec87e37-b865-4ab7-9961-b488fcb4037d",
   "metadata": {},
   "outputs": [],
   "source": []
  }
 ],
 "metadata": {
  "kernelspec": {
   "display_name": "Python 3 (ipykernel)",
   "language": "python",
   "name": "python3"
  },
  "language_info": {
   "codemirror_mode": {
    "name": "ipython",
    "version": 3
   },
   "file_extension": ".py",
   "mimetype": "text/x-python",
   "name": "python",
   "nbconvert_exporter": "python",
   "pygments_lexer": "ipython3",
   "version": "3.11.3"
  }
 },
 "nbformat": 4,
 "nbformat_minor": 5
}
