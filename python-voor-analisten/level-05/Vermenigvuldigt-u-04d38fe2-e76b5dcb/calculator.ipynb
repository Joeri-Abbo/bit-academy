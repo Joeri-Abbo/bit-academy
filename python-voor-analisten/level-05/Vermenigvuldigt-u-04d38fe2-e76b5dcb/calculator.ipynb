{
 "cells": [
  {
   "cell_type": "markdown",
   "id": "d6e1e6d6-9594-49e5-bb5f-8da70c73821b",
   "metadata": {},
   "source": [
    "# Vermenigvuldigt u!"
   ]
  },
  {
   "cell_type": "code",
   "execution_count": 4,
   "id": "77d38d02-af8f-432f-9a18-aa4fb3fc80fa",
   "metadata": {},
   "outputs": [
    {
     "name": "stdout",
     "output_type": "stream",
     "text": [
      "<class 'str'>\n",
      "<class 'str'>\n"
     ]
    }
   ],
   "source": [
    "lengte = '8'\n",
    "breedte = '6'\n",
    "print(type(lengte))\n",
    "print(type(breedte))"
   ]
  },
  {
   "cell_type": "markdown",
   "id": "9f335e8d-c781-46eb-9f08-37fa07653fe4",
   "metadata": {},
   "source": [
    "Bereken de oppervlakte"
   ]
  },
  {
   "cell_type": "code",
   "execution_count": 5,
   "id": "b6e24ab0-b18a-4c4f-a441-e21723bf26ca",
   "metadata": {},
   "outputs": [
    {
     "data": {
      "text/plain": [
       "48"
      ]
     },
     "execution_count": 5,
     "metadata": {},
     "output_type": "execute_result"
    }
   ],
   "source": [
    "int(lengte) * int(breedte)"
   ]
  }
 ],
 "metadata": {
  "kernelspec": {
   "display_name": "Python 3 (ipykernel)",
   "language": "python",
   "name": "python3"
  },
  "language_info": {
   "codemirror_mode": {
    "name": "ipython",
    "version": 3
   },
   "file_extension": ".py",
   "mimetype": "text/x-python",
   "name": "python",
   "nbconvert_exporter": "python",
   "pygments_lexer": "ipython3",
   "version": "3.11.3"
  }
 },
 "nbformat": 4,
 "nbformat_minor": 5
}
