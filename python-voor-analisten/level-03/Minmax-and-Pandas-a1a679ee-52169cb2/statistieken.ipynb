{
 "cells": [
  {
   "cell_type": "markdown",
   "id": "73827134-7516-42d1-b09b-b7279e64ea27",
   "metadata": {},
   "source": [
    "# Minmax and Pandas\n",
    "\n",
    "We gaan verschillende vragen beantwoorden met de data uit de csv."
   ]
  },
  {
   "cell_type": "code",
   "execution_count": 3,
   "id": "4f6b9360-d979-4460-908b-fc112de77189",
   "metadata": {},
   "outputs": [],
   "source": [
    "import pandas as pd"
   ]
  },
  {
   "cell_type": "markdown",
   "id": "a478dc5a-6aa9-4565-97b5-6e0838c8d7bc",
   "metadata": {},
   "source": [
    "Data inladen vanuit csv"
   ]
  },
  {
   "cell_type": "code",
   "execution_count": 4,
   "id": "1489e0d6-5430-4604-96fc-c40a49d12e61",
   "metadata": {},
   "outputs": [],
   "source": [
    "df = pd.read_csv('weather_netherlands.csv')"
   ]
  },
  {
   "cell_type": "markdown",
   "id": "9ffb9b5f-4e62-4e3e-9f1e-44e411c79f6d",
   "metadata": {},
   "source": [
    "Wat is de maximale (hoogste) gemiddelde temperatuur in Rotterdam?"
   ]
  },
  {
   "cell_type": "code",
   "execution_count": 6,
   "id": "6245efdb-e557-4d9d-b1be-ed4367be16e9",
   "metadata": {},
   "outputs": [
    {
     "name": "stdout",
     "output_type": "stream",
     "text": [
      "Maximale gemiddelde temperatuur in Rotterdam: 21.941\n"
     ]
    }
   ],
   "source": [
    "max_temp_rotterdam = df[df['City'] == 'Rotterdam']['AverageTemperature'].max()\n",
    "print(\"Maximale gemiddelde temperatuur in Rotterdam:\", max_temp_rotterdam)"
   ]
  },
  {
   "cell_type": "markdown",
   "id": "5f5a2701-b91d-4c31-9218-d543b3278bdb",
   "metadata": {},
   "source": [
    "Wat is de minimale (laagste) gemiddelde temperatuur in Maastricht?\n"
   ]
  },
  {
   "cell_type": "code",
   "execution_count": 7,
   "id": "e051a92e-fb95-47d5-b612-630db9b310da",
   "metadata": {},
   "outputs": [
    {
     "name": "stdout",
     "output_type": "stream",
     "text": [
      "Minimale gemiddelde temperatuur in Maastricht: -6.41\n"
     ]
    }
   ],
   "source": [
    "min_temp_maastricht = df[df['City'] == 'Maastricht']['AverageTemperature'].min()\n",
    "print(\"Minimale gemiddelde temperatuur in Maastricht:\", min_temp_maastricht)\n"
   ]
  },
  {
   "cell_type": "markdown",
   "id": "038ffe57-b1ae-47a3-9364-14ea24f4ada0",
   "metadata": {},
   "source": [
    "Hoeveel verschillende steden zitten in de dataset?"
   ]
  },
  {
   "cell_type": "code",
   "execution_count": 9,
   "id": "004b822f-413d-4175-9738-eaf9522819a4",
   "metadata": {},
   "outputs": [
    {
     "name": "stdout",
     "output_type": "stream",
     "text": [
      "Aantal verschillende steden in de dataset: 24\n"
     ]
    }
   ],
   "source": [
    "aantal_steden = df['City'].nunique()\n",
    "print(\"Aantal verschillende steden in de dataset:\", aantal_steden)\n"
   ]
  },
  {
   "cell_type": "markdown",
   "id": "4d842388-3d5d-41c6-8485-4d5ee0c58e28",
   "metadata": {},
   "source": [
    "Welke gemiddelde temperatuur komt het meeste voor? Rond hiervoor de temperatuur af op hele getallen."
   ]
  },
  {
   "cell_type": "code",
   "execution_count": 11,
   "id": "ed51e71a-22ef-440d-8d48-97a91c55ba8d",
   "metadata": {},
   "outputs": [
    {
     "name": "stdout",
     "output_type": "stream",
     "text": [
      "Meest voorkomende gemiddelde temperatuur: 16.0\n"
     ]
    }
   ],
   "source": [
    "meest_voorkomende_temp = df['AverageTemperature'].round().mode()[0]\n",
    "print(\"Meest voorkomende gemiddelde temperatuur:\", meest_voorkomende_temp)"
   ]
  },
  {
   "cell_type": "markdown",
   "id": "527a0a73-5e5b-4f60-9230-0c5699f33f7b",
   "metadata": {},
   "source": [
    "Wat zijn de top 3 warmste temperaturen gemeten? Let op: het eindresultaat moet bestaan uit 3 unieke temperaturen."
   ]
  },
  {
   "cell_type": "code",
   "execution_count": 14,
   "id": "8a440b3e-ab62-48fc-8050-191092efaefa",
   "metadata": {},
   "outputs": [
    {
     "name": "stdout",
     "output_type": "stream",
     "text": [
      "Top 3 warmste temperaturen gemeten: [22.812 22.621 21.983]\n"
     ]
    }
   ],
   "source": [
    "top_3_warmste_temp = df['AverageTemperature'].nlargest(4).unique()\n",
    "print(\"Top 3 warmste temperaturen gemeten:\", top_3_warmste_temp)"
   ]
  },
  {
   "cell_type": "code",
   "execution_count": null,
   "id": "209a4c8f-1af9-4c88-9683-ce4095ba5d22",
   "metadata": {},
   "outputs": [],
   "source": []
  }
 ],
 "metadata": {
  "kernelspec": {
   "display_name": "Python 3 (ipykernel)",
   "language": "python",
   "name": "python3"
  },
  "language_info": {
   "codemirror_mode": {
    "name": "ipython",
    "version": 3
   },
   "file_extension": ".py",
   "mimetype": "text/x-python",
   "name": "python",
   "nbconvert_exporter": "python",
   "pygments_lexer": "ipython3",
   "version": "3.11.3"
  }
 },
 "nbformat": 4,
 "nbformat_minor": 5
}
