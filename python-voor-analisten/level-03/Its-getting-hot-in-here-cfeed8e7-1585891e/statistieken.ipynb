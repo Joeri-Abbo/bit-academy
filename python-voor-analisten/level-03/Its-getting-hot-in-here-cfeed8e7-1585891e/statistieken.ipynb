{
  "nbformat": 4,
  "nbformat_minor": 0,
  "metadata": {
    "colab": {
      "provenance": []
    },
    "kernelspec": {
      "name": "python3",
      "display_name": "Python 3"
    },
    "language_info": {
      "name": "python"
    }
  },
  "cells": [
    {
      "cell_type": "markdown",
      "source": [
        "# Het weer\n",
        "\n",
        "De csv met het weer van Nederland wordt geüpload."
      ],
      "metadata": {
        "id": "c_I0AyHPJzw3"
      }
    },
    {
      "cell_type": "code",
      "source": [
        "import pandas as pd\n",
        "from google.colab import files\n",
        "uploaded = files.upload()"
      ],
      "metadata": {
        "colab": {
          "base_uri": "https://localhost:8080/",
          "height": 73
        },
        "id": "gptHJgjJJVLO",
        "outputId": "cb20a410-6f45-4d25-f5ad-cdd70c92826c"
      },
      "execution_count": 3,
      "outputs": [
        {
          "output_type": "display_data",
          "data": {
            "text/plain": [
              "<IPython.core.display.HTML object>"
            ],
            "text/html": [
              "\n",
              "     <input type=\"file\" id=\"files-69e7750a-9b13-4ef8-ab00-9344b3fe1aa2\" name=\"files[]\" multiple disabled\n",
              "        style=\"border:none\" />\n",
              "     <output id=\"result-69e7750a-9b13-4ef8-ab00-9344b3fe1aa2\">\n",
              "      Upload widget is only available when the cell has been executed in the\n",
              "      current browser session. Please rerun this cell to enable.\n",
              "      </output>\n",
              "      <script>// Copyright 2017 Google LLC\n",
              "//\n",
              "// Licensed under the Apache License, Version 2.0 (the \"License\");\n",
              "// you may not use this file except in compliance with the License.\n",
              "// You may obtain a copy of the License at\n",
              "//\n",
              "//      http://www.apache.org/licenses/LICENSE-2.0\n",
              "//\n",
              "// Unless required by applicable law or agreed to in writing, software\n",
              "// distributed under the License is distributed on an \"AS IS\" BASIS,\n",
              "// WITHOUT WARRANTIES OR CONDITIONS OF ANY KIND, either express or implied.\n",
              "// See the License for the specific language governing permissions and\n",
              "// limitations under the License.\n",
              "\n",
              "/**\n",
              " * @fileoverview Helpers for google.colab Python module.\n",
              " */\n",
              "(function(scope) {\n",
              "function span(text, styleAttributes = {}) {\n",
              "  const element = document.createElement('span');\n",
              "  element.textContent = text;\n",
              "  for (const key of Object.keys(styleAttributes)) {\n",
              "    element.style[key] = styleAttributes[key];\n",
              "  }\n",
              "  return element;\n",
              "}\n",
              "\n",
              "// Max number of bytes which will be uploaded at a time.\n",
              "const MAX_PAYLOAD_SIZE = 100 * 1024;\n",
              "\n",
              "function _uploadFiles(inputId, outputId) {\n",
              "  const steps = uploadFilesStep(inputId, outputId);\n",
              "  const outputElement = document.getElementById(outputId);\n",
              "  // Cache steps on the outputElement to make it available for the next call\n",
              "  // to uploadFilesContinue from Python.\n",
              "  outputElement.steps = steps;\n",
              "\n",
              "  return _uploadFilesContinue(outputId);\n",
              "}\n",
              "\n",
              "// This is roughly an async generator (not supported in the browser yet),\n",
              "// where there are multiple asynchronous steps and the Python side is going\n",
              "// to poll for completion of each step.\n",
              "// This uses a Promise to block the python side on completion of each step,\n",
              "// then passes the result of the previous step as the input to the next step.\n",
              "function _uploadFilesContinue(outputId) {\n",
              "  const outputElement = document.getElementById(outputId);\n",
              "  const steps = outputElement.steps;\n",
              "\n",
              "  const next = steps.next(outputElement.lastPromiseValue);\n",
              "  return Promise.resolve(next.value.promise).then((value) => {\n",
              "    // Cache the last promise value to make it available to the next\n",
              "    // step of the generator.\n",
              "    outputElement.lastPromiseValue = value;\n",
              "    return next.value.response;\n",
              "  });\n",
              "}\n",
              "\n",
              "/**\n",
              " * Generator function which is called between each async step of the upload\n",
              " * process.\n",
              " * @param {string} inputId Element ID of the input file picker element.\n",
              " * @param {string} outputId Element ID of the output display.\n",
              " * @return {!Iterable<!Object>} Iterable of next steps.\n",
              " */\n",
              "function* uploadFilesStep(inputId, outputId) {\n",
              "  const inputElement = document.getElementById(inputId);\n",
              "  inputElement.disabled = false;\n",
              "\n",
              "  const outputElement = document.getElementById(outputId);\n",
              "  outputElement.innerHTML = '';\n",
              "\n",
              "  const pickedPromise = new Promise((resolve) => {\n",
              "    inputElement.addEventListener('change', (e) => {\n",
              "      resolve(e.target.files);\n",
              "    });\n",
              "  });\n",
              "\n",
              "  const cancel = document.createElement('button');\n",
              "  inputElement.parentElement.appendChild(cancel);\n",
              "  cancel.textContent = 'Cancel upload';\n",
              "  const cancelPromise = new Promise((resolve) => {\n",
              "    cancel.onclick = () => {\n",
              "      resolve(null);\n",
              "    };\n",
              "  });\n",
              "\n",
              "  // Wait for the user to pick the files.\n",
              "  const files = yield {\n",
              "    promise: Promise.race([pickedPromise, cancelPromise]),\n",
              "    response: {\n",
              "      action: 'starting',\n",
              "    }\n",
              "  };\n",
              "\n",
              "  cancel.remove();\n",
              "\n",
              "  // Disable the input element since further picks are not allowed.\n",
              "  inputElement.disabled = true;\n",
              "\n",
              "  if (!files) {\n",
              "    return {\n",
              "      response: {\n",
              "        action: 'complete',\n",
              "      }\n",
              "    };\n",
              "  }\n",
              "\n",
              "  for (const file of files) {\n",
              "    const li = document.createElement('li');\n",
              "    li.append(span(file.name, {fontWeight: 'bold'}));\n",
              "    li.append(span(\n",
              "        `(${file.type || 'n/a'}) - ${file.size} bytes, ` +\n",
              "        `last modified: ${\n",
              "            file.lastModifiedDate ? file.lastModifiedDate.toLocaleDateString() :\n",
              "                                    'n/a'} - `));\n",
              "    const percent = span('0% done');\n",
              "    li.appendChild(percent);\n",
              "\n",
              "    outputElement.appendChild(li);\n",
              "\n",
              "    const fileDataPromise = new Promise((resolve) => {\n",
              "      const reader = new FileReader();\n",
              "      reader.onload = (e) => {\n",
              "        resolve(e.target.result);\n",
              "      };\n",
              "      reader.readAsArrayBuffer(file);\n",
              "    });\n",
              "    // Wait for the data to be ready.\n",
              "    let fileData = yield {\n",
              "      promise: fileDataPromise,\n",
              "      response: {\n",
              "        action: 'continue',\n",
              "      }\n",
              "    };\n",
              "\n",
              "    // Use a chunked sending to avoid message size limits. See b/62115660.\n",
              "    let position = 0;\n",
              "    do {\n",
              "      const length = Math.min(fileData.byteLength - position, MAX_PAYLOAD_SIZE);\n",
              "      const chunk = new Uint8Array(fileData, position, length);\n",
              "      position += length;\n",
              "\n",
              "      const base64 = btoa(String.fromCharCode.apply(null, chunk));\n",
              "      yield {\n",
              "        response: {\n",
              "          action: 'append',\n",
              "          file: file.name,\n",
              "          data: base64,\n",
              "        },\n",
              "      };\n",
              "\n",
              "      let percentDone = fileData.byteLength === 0 ?\n",
              "          100 :\n",
              "          Math.round((position / fileData.byteLength) * 100);\n",
              "      percent.textContent = `${percentDone}% done`;\n",
              "\n",
              "    } while (position < fileData.byteLength);\n",
              "  }\n",
              "\n",
              "  // All done.\n",
              "  yield {\n",
              "    response: {\n",
              "      action: 'complete',\n",
              "    }\n",
              "  };\n",
              "}\n",
              "\n",
              "scope.google = scope.google || {};\n",
              "scope.google.colab = scope.google.colab || {};\n",
              "scope.google.colab._files = {\n",
              "  _uploadFiles,\n",
              "  _uploadFilesContinue,\n",
              "};\n",
              "})(self);\n",
              "</script> "
            ]
          },
          "metadata": {}
        },
        {
          "output_type": "stream",
          "name": "stdout",
          "text": [
            "Saving weather_netherlands.csv to weather_netherlands.csv\n"
          ]
        }
      ]
    },
    {
      "cell_type": "markdown",
      "source": [
        "Vervolgens wordt het csv bestand ingeladen met pandas."
      ],
      "metadata": {
        "id": "Rbv6jB0iVnB2"
      }
    },
    {
      "cell_type": "code",
      "source": [
        "het_weer = pd.read_csv(\"weather_netherlands.csv\")"
      ],
      "metadata": {
        "id": "PRMmF6jNVVBI"
      },
      "execution_count": 73,
      "outputs": []
    },
    {
      "cell_type": "markdown",
      "source": [
        "Het dataframe wordt hieronder weergegeven"
      ],
      "metadata": {
        "id": "pVEcLLPYVdDH"
      }
    },
    {
      "cell_type": "code",
      "source": [
        "het_weer"
      ],
      "metadata": {
        "colab": {
          "base_uri": "https://localhost:8080/",
          "height": 423
        },
        "id": "tMPtDlb0Vgzp",
        "outputId": "203d394a-f59f-4e67-d2a2-45571e57893b"
      },
      "execution_count": 35,
      "outputs": [
        {
          "output_type": "execute_result",
          "data": {
            "text/plain": [
              "               dt  AverageTemperature  AverageTemperatureUncertainty    City  \\\n",
              "0      1960-01-01               2.425                          0.215  Almere   \n",
              "1      1960-02-01               3.083                          0.245  Almere   \n",
              "2      1960-03-01               5.858                          0.347  Almere   \n",
              "3      1960-04-01               8.870                          0.226  Almere   \n",
              "4      1960-05-01              13.088                          0.454  Almere   \n",
              "...           ...                 ...                            ...     ...   \n",
              "15475  2013-05-01              11.464                          0.236  Zwolle   \n",
              "15476  2013-06-01              15.043                          0.261  Zwolle   \n",
              "15477  2013-07-01              18.775                          0.193  Zwolle   \n",
              "15478  2013-08-01              18.025                          0.298  Zwolle   \n",
              "15479  2013-09-01                 NaN                            NaN  Zwolle   \n",
              "\n",
              "           Country Latitude Longitude  \n",
              "0      Netherlands   52.24N     5.26E  \n",
              "1      Netherlands   52.24N     5.26E  \n",
              "2      Netherlands   52.24N     5.26E  \n",
              "3      Netherlands   52.24N     5.26E  \n",
              "4      Netherlands   52.24N     5.26E  \n",
              "...            ...      ...       ...  \n",
              "15475  Netherlands   52.24N     5.26E  \n",
              "15476  Netherlands   52.24N     5.26E  \n",
              "15477  Netherlands   52.24N     5.26E  \n",
              "15478  Netherlands   52.24N     5.26E  \n",
              "15479  Netherlands   52.24N     5.26E  \n",
              "\n",
              "[15480 rows x 7 columns]"
            ],
            "text/html": [
              "\n",
              "  <div id=\"df-d3d8a99e-ed85-4ec1-8411-7c24a23f12f8\">\n",
              "    <div class=\"colab-df-container\">\n",
              "      <div>\n",
              "<style scoped>\n",
              "    .dataframe tbody tr th:only-of-type {\n",
              "        vertical-align: middle;\n",
              "    }\n",
              "\n",
              "    .dataframe tbody tr th {\n",
              "        vertical-align: top;\n",
              "    }\n",
              "\n",
              "    .dataframe thead th {\n",
              "        text-align: right;\n",
              "    }\n",
              "</style>\n",
              "<table border=\"1\" class=\"dataframe\">\n",
              "  <thead>\n",
              "    <tr style=\"text-align: right;\">\n",
              "      <th></th>\n",
              "      <th>dt</th>\n",
              "      <th>AverageTemperature</th>\n",
              "      <th>AverageTemperatureUncertainty</th>\n",
              "      <th>City</th>\n",
              "      <th>Country</th>\n",
              "      <th>Latitude</th>\n",
              "      <th>Longitude</th>\n",
              "    </tr>\n",
              "  </thead>\n",
              "  <tbody>\n",
              "    <tr>\n",
              "      <th>0</th>\n",
              "      <td>1960-01-01</td>\n",
              "      <td>2.425</td>\n",
              "      <td>0.215</td>\n",
              "      <td>Almere</td>\n",
              "      <td>Netherlands</td>\n",
              "      <td>52.24N</td>\n",
              "      <td>5.26E</td>\n",
              "    </tr>\n",
              "    <tr>\n",
              "      <th>1</th>\n",
              "      <td>1960-02-01</td>\n",
              "      <td>3.083</td>\n",
              "      <td>0.245</td>\n",
              "      <td>Almere</td>\n",
              "      <td>Netherlands</td>\n",
              "      <td>52.24N</td>\n",
              "      <td>5.26E</td>\n",
              "    </tr>\n",
              "    <tr>\n",
              "      <th>2</th>\n",
              "      <td>1960-03-01</td>\n",
              "      <td>5.858</td>\n",
              "      <td>0.347</td>\n",
              "      <td>Almere</td>\n",
              "      <td>Netherlands</td>\n",
              "      <td>52.24N</td>\n",
              "      <td>5.26E</td>\n",
              "    </tr>\n",
              "    <tr>\n",
              "      <th>3</th>\n",
              "      <td>1960-04-01</td>\n",
              "      <td>8.870</td>\n",
              "      <td>0.226</td>\n",
              "      <td>Almere</td>\n",
              "      <td>Netherlands</td>\n",
              "      <td>52.24N</td>\n",
              "      <td>5.26E</td>\n",
              "    </tr>\n",
              "    <tr>\n",
              "      <th>4</th>\n",
              "      <td>1960-05-01</td>\n",
              "      <td>13.088</td>\n",
              "      <td>0.454</td>\n",
              "      <td>Almere</td>\n",
              "      <td>Netherlands</td>\n",
              "      <td>52.24N</td>\n",
              "      <td>5.26E</td>\n",
              "    </tr>\n",
              "    <tr>\n",
              "      <th>...</th>\n",
              "      <td>...</td>\n",
              "      <td>...</td>\n",
              "      <td>...</td>\n",
              "      <td>...</td>\n",
              "      <td>...</td>\n",
              "      <td>...</td>\n",
              "      <td>...</td>\n",
              "    </tr>\n",
              "    <tr>\n",
              "      <th>15475</th>\n",
              "      <td>2013-05-01</td>\n",
              "      <td>11.464</td>\n",
              "      <td>0.236</td>\n",
              "      <td>Zwolle</td>\n",
              "      <td>Netherlands</td>\n",
              "      <td>52.24N</td>\n",
              "      <td>5.26E</td>\n",
              "    </tr>\n",
              "    <tr>\n",
              "      <th>15476</th>\n",
              "      <td>2013-06-01</td>\n",
              "      <td>15.043</td>\n",
              "      <td>0.261</td>\n",
              "      <td>Zwolle</td>\n",
              "      <td>Netherlands</td>\n",
              "      <td>52.24N</td>\n",
              "      <td>5.26E</td>\n",
              "    </tr>\n",
              "    <tr>\n",
              "      <th>15477</th>\n",
              "      <td>2013-07-01</td>\n",
              "      <td>18.775</td>\n",
              "      <td>0.193</td>\n",
              "      <td>Zwolle</td>\n",
              "      <td>Netherlands</td>\n",
              "      <td>52.24N</td>\n",
              "      <td>5.26E</td>\n",
              "    </tr>\n",
              "    <tr>\n",
              "      <th>15478</th>\n",
              "      <td>2013-08-01</td>\n",
              "      <td>18.025</td>\n",
              "      <td>0.298</td>\n",
              "      <td>Zwolle</td>\n",
              "      <td>Netherlands</td>\n",
              "      <td>52.24N</td>\n",
              "      <td>5.26E</td>\n",
              "    </tr>\n",
              "    <tr>\n",
              "      <th>15479</th>\n",
              "      <td>2013-09-01</td>\n",
              "      <td>NaN</td>\n",
              "      <td>NaN</td>\n",
              "      <td>Zwolle</td>\n",
              "      <td>Netherlands</td>\n",
              "      <td>52.24N</td>\n",
              "      <td>5.26E</td>\n",
              "    </tr>\n",
              "  </tbody>\n",
              "</table>\n",
              "<p>15480 rows × 7 columns</p>\n",
              "</div>\n",
              "      <button class=\"colab-df-convert\" onclick=\"convertToInteractive('df-d3d8a99e-ed85-4ec1-8411-7c24a23f12f8')\"\n",
              "              title=\"Convert this dataframe to an interactive table.\"\n",
              "              style=\"display:none;\">\n",
              "        \n",
              "  <svg xmlns=\"http://www.w3.org/2000/svg\" height=\"24px\"viewBox=\"0 0 24 24\"\n",
              "       width=\"24px\">\n",
              "    <path d=\"M0 0h24v24H0V0z\" fill=\"none\"/>\n",
              "    <path d=\"M18.56 5.44l.94 2.06.94-2.06 2.06-.94-2.06-.94-.94-2.06-.94 2.06-2.06.94zm-11 1L8.5 8.5l.94-2.06 2.06-.94-2.06-.94L8.5 2.5l-.94 2.06-2.06.94zm10 10l.94 2.06.94-2.06 2.06-.94-2.06-.94-.94-2.06-.94 2.06-2.06.94z\"/><path d=\"M17.41 7.96l-1.37-1.37c-.4-.4-.92-.59-1.43-.59-.52 0-1.04.2-1.43.59L10.3 9.45l-7.72 7.72c-.78.78-.78 2.05 0 2.83L4 21.41c.39.39.9.59 1.41.59.51 0 1.02-.2 1.41-.59l7.78-7.78 2.81-2.81c.8-.78.8-2.07 0-2.86zM5.41 20L4 18.59l7.72-7.72 1.47 1.35L5.41 20z\"/>\n",
              "  </svg>\n",
              "      </button>\n",
              "      \n",
              "  <style>\n",
              "    .colab-df-container {\n",
              "      display:flex;\n",
              "      flex-wrap:wrap;\n",
              "      gap: 12px;\n",
              "    }\n",
              "\n",
              "    .colab-df-convert {\n",
              "      background-color: #E8F0FE;\n",
              "      border: none;\n",
              "      border-radius: 50%;\n",
              "      cursor: pointer;\n",
              "      display: none;\n",
              "      fill: #1967D2;\n",
              "      height: 32px;\n",
              "      padding: 0 0 0 0;\n",
              "      width: 32px;\n",
              "    }\n",
              "\n",
              "    .colab-df-convert:hover {\n",
              "      background-color: #E2EBFA;\n",
              "      box-shadow: 0px 1px 2px rgba(60, 64, 67, 0.3), 0px 1px 3px 1px rgba(60, 64, 67, 0.15);\n",
              "      fill: #174EA6;\n",
              "    }\n",
              "\n",
              "    [theme=dark] .colab-df-convert {\n",
              "      background-color: #3B4455;\n",
              "      fill: #D2E3FC;\n",
              "    }\n",
              "\n",
              "    [theme=dark] .colab-df-convert:hover {\n",
              "      background-color: #434B5C;\n",
              "      box-shadow: 0px 1px 3px 1px rgba(0, 0, 0, 0.15);\n",
              "      filter: drop-shadow(0px 1px 2px rgba(0, 0, 0, 0.3));\n",
              "      fill: #FFFFFF;\n",
              "    }\n",
              "  </style>\n",
              "\n",
              "      <script>\n",
              "        const buttonEl =\n",
              "          document.querySelector('#df-d3d8a99e-ed85-4ec1-8411-7c24a23f12f8 button.colab-df-convert');\n",
              "        buttonEl.style.display =\n",
              "          google.colab.kernel.accessAllowed ? 'block' : 'none';\n",
              "\n",
              "        async function convertToInteractive(key) {\n",
              "          const element = document.querySelector('#df-d3d8a99e-ed85-4ec1-8411-7c24a23f12f8');\n",
              "          const dataTable =\n",
              "            await google.colab.kernel.invokeFunction('convertToInteractive',\n",
              "                                                     [key], {});\n",
              "          if (!dataTable) return;\n",
              "\n",
              "          const docLinkHtml = 'Like what you see? Visit the ' +\n",
              "            '<a target=\"_blank\" href=https://colab.research.google.com/notebooks/data_table.ipynb>data table notebook</a>'\n",
              "            + ' to learn more about interactive tables.';\n",
              "          element.innerHTML = '';\n",
              "          dataTable['output_type'] = 'display_data';\n",
              "          await google.colab.output.renderOutput(dataTable, element);\n",
              "          const docLink = document.createElement('div');\n",
              "          docLink.innerHTML = docLinkHtml;\n",
              "          element.appendChild(docLink);\n",
              "        }\n",
              "      </script>\n",
              "    </div>\n",
              "  </div>\n",
              "  "
            ]
          },
          "metadata": {},
          "execution_count": 35
        }
      ]
    },
    {
      "cell_type": "markdown",
      "source": [
        "We maken een nieuw dataframe van het weer in Rotterdam en halen daar de maximale gemiddelde temperatuur uit met de functie .max"
      ],
      "metadata": {
        "id": "KUaKIsTieGm0"
      }
    },
    {
      "cell_type": "code",
      "source": [
        "temp_rtm = het_weer[(het_weer[\"City\"] == \"Rotterdam\")].max(axis=0)[1]\n",
        "temp_rtm"
      ],
      "metadata": {
        "colab": {
          "base_uri": "https://localhost:8080/"
        },
        "id": "-QJrtH-9bP6D",
        "outputId": "f90baee8-3505-4361-c3a0-bb6a57d491a4"
      },
      "execution_count": 90,
      "outputs": [
        {
          "output_type": "execute_result",
          "data": {
            "text/plain": [
              "21.941"
            ]
          },
          "metadata": {},
          "execution_count": 90
        }
      ]
    },
    {
      "cell_type": "markdown",
      "source": [
        "We maken vervolgens een nieuw dataframe voor het weer in Maastricht en halen daar de minimale gemiddelde temperatuur uit met de functie .min"
      ],
      "metadata": {
        "id": "WBPgVWW8eTMw"
      }
    },
    {
      "cell_type": "code",
      "source": [
        "temp_maastricht =  het_weer[(het_weer[\"City\"] == \"Maastricht\")].min(axis=0)[1]\n",
        "temp_maastricht"
      ],
      "metadata": {
        "colab": {
          "base_uri": "https://localhost:8080/"
        },
        "id": "K7j53lW072NT",
        "outputId": "2c776bc5-25b4-4a0b-c3f4-4ceb2717c111"
      },
      "execution_count": 89,
      "outputs": [
        {
          "output_type": "execute_result",
          "data": {
            "text/plain": [
              "-6.41"
            ]
          },
          "metadata": {},
          "execution_count": 89
        }
      ]
    },
    {
      "cell_type": "markdown",
      "source": [
        "Hieronder geven we weer hoeveel verschillende steden er in het dataframe zitten. Dit doen we door de functie nunique, die het aantal unieke waarden telt."
      ],
      "metadata": {
        "id": "WQqT0ysJep8j"
      }
    },
    {
      "cell_type": "code",
      "source": [
        "steden = het_weer[\"City\"].nunique()\n",
        "steden"
      ],
      "metadata": {
        "colab": {
          "base_uri": "https://localhost:8080/"
        },
        "id": "WN3jMsYVe3Na",
        "outputId": "d882491e-2d73-4b5d-dca0-75f288730dd3"
      },
      "execution_count": 14,
      "outputs": [
        {
          "output_type": "execute_result",
          "data": {
            "text/plain": [
              "24"
            ]
          },
          "metadata": {},
          "execution_count": 14
        }
      ]
    },
    {
      "cell_type": "markdown",
      "source": [
        "Met de functie round ronden we de getallen van de temperatuur af. Vervolgens gebruiken we de functie mode om de meest voorkomende waarde te vinden in de kolom. De index 0 geeft aan dat we de eerste waarde willen weergeven."
      ],
      "metadata": {
        "id": "ePfx_czii3sj"
      }
    },
    {
      "cell_type": "code",
      "source": [
        "meest_voorkomend = het_weer[\"AverageTemperature\"].round().mode()[0]\n",
        "meest_voorkomend"
      ],
      "metadata": {
        "colab": {
          "base_uri": "https://localhost:8080/"
        },
        "id": "eLjH5FKm58IE",
        "outputId": "ebe72949-2f38-4230-8dd8-b45c2040c558"
      },
      "execution_count": 86,
      "outputs": [
        {
          "output_type": "execute_result",
          "data": {
            "text/plain": [
              "16.0"
            ]
          },
          "metadata": {},
          "execution_count": 86
        }
      ]
    },
    {
      "cell_type": "markdown",
      "source": [
        "Met de functie drop_duplicates filteren we de kolom op unieke waarden en behouden we de laatst gevonden waarde ervan. Vervolgens gebruiken we nlargest met een aantal van 3 om de 3 hoogste waarden te vinden."
      ],
      "metadata": {
        "id": "VyZ6lf3-2XQQ"
      }
    },
    {
      "cell_type": "code",
      "source": [
        "uniek = het_weer.drop_duplicates(subset=['AverageTemperature'], keep='last').nlargest(3,\"AverageTemperature\")\n",
        "uniek"
      ],
      "metadata": {
        "colab": {
          "base_uri": "https://localhost:8080/",
          "height": 143
        },
        "id": "dR_asXvH8kHa",
        "outputId": "acc9c2d0-c4c5-4a66-a311-1c0409a38390"
      },
      "execution_count": 91,
      "outputs": [
        {
          "output_type": "execute_result",
          "data": {
            "text/plain": [
              "               dt  AverageTemperature  AverageTemperatureUncertainty  \\\n",
              "10233  2006-07-01              22.812                          0.238   \n",
              "7008   2006-07-01              22.621                          0.229   \n",
              "6864   1994-07-01              21.983                          0.294   \n",
              "\n",
              "             City      Country Latitude Longitude  \n",
              "10233  Maastricht  Netherlands   50.63N     6.34E  \n",
              "7008     Enschede  Netherlands   52.24N     7.88E  \n",
              "6864     Enschede  Netherlands   52.24N     7.88E  "
            ],
            "text/html": [
              "\n",
              "  <div id=\"df-7dec4a87-891c-465f-84ff-c8cd74ff4b5d\">\n",
              "    <div class=\"colab-df-container\">\n",
              "      <div>\n",
              "<style scoped>\n",
              "    .dataframe tbody tr th:only-of-type {\n",
              "        vertical-align: middle;\n",
              "    }\n",
              "\n",
              "    .dataframe tbody tr th {\n",
              "        vertical-align: top;\n",
              "    }\n",
              "\n",
              "    .dataframe thead th {\n",
              "        text-align: right;\n",
              "    }\n",
              "</style>\n",
              "<table border=\"1\" class=\"dataframe\">\n",
              "  <thead>\n",
              "    <tr style=\"text-align: right;\">\n",
              "      <th></th>\n",
              "      <th>dt</th>\n",
              "      <th>AverageTemperature</th>\n",
              "      <th>AverageTemperatureUncertainty</th>\n",
              "      <th>City</th>\n",
              "      <th>Country</th>\n",
              "      <th>Latitude</th>\n",
              "      <th>Longitude</th>\n",
              "    </tr>\n",
              "  </thead>\n",
              "  <tbody>\n",
              "    <tr>\n",
              "      <th>10233</th>\n",
              "      <td>2006-07-01</td>\n",
              "      <td>22.812</td>\n",
              "      <td>0.238</td>\n",
              "      <td>Maastricht</td>\n",
              "      <td>Netherlands</td>\n",
              "      <td>50.63N</td>\n",
              "      <td>6.34E</td>\n",
              "    </tr>\n",
              "    <tr>\n",
              "      <th>7008</th>\n",
              "      <td>2006-07-01</td>\n",
              "      <td>22.621</td>\n",
              "      <td>0.229</td>\n",
              "      <td>Enschede</td>\n",
              "      <td>Netherlands</td>\n",
              "      <td>52.24N</td>\n",
              "      <td>7.88E</td>\n",
              "    </tr>\n",
              "    <tr>\n",
              "      <th>6864</th>\n",
              "      <td>1994-07-01</td>\n",
              "      <td>21.983</td>\n",
              "      <td>0.294</td>\n",
              "      <td>Enschede</td>\n",
              "      <td>Netherlands</td>\n",
              "      <td>52.24N</td>\n",
              "      <td>7.88E</td>\n",
              "    </tr>\n",
              "  </tbody>\n",
              "</table>\n",
              "</div>\n",
              "      <button class=\"colab-df-convert\" onclick=\"convertToInteractive('df-7dec4a87-891c-465f-84ff-c8cd74ff4b5d')\"\n",
              "              title=\"Convert this dataframe to an interactive table.\"\n",
              "              style=\"display:none;\">\n",
              "        \n",
              "  <svg xmlns=\"http://www.w3.org/2000/svg\" height=\"24px\"viewBox=\"0 0 24 24\"\n",
              "       width=\"24px\">\n",
              "    <path d=\"M0 0h24v24H0V0z\" fill=\"none\"/>\n",
              "    <path d=\"M18.56 5.44l.94 2.06.94-2.06 2.06-.94-2.06-.94-.94-2.06-.94 2.06-2.06.94zm-11 1L8.5 8.5l.94-2.06 2.06-.94-2.06-.94L8.5 2.5l-.94 2.06-2.06.94zm10 10l.94 2.06.94-2.06 2.06-.94-2.06-.94-.94-2.06-.94 2.06-2.06.94z\"/><path d=\"M17.41 7.96l-1.37-1.37c-.4-.4-.92-.59-1.43-.59-.52 0-1.04.2-1.43.59L10.3 9.45l-7.72 7.72c-.78.78-.78 2.05 0 2.83L4 21.41c.39.39.9.59 1.41.59.51 0 1.02-.2 1.41-.59l7.78-7.78 2.81-2.81c.8-.78.8-2.07 0-2.86zM5.41 20L4 18.59l7.72-7.72 1.47 1.35L5.41 20z\"/>\n",
              "  </svg>\n",
              "      </button>\n",
              "      \n",
              "  <style>\n",
              "    .colab-df-container {\n",
              "      display:flex;\n",
              "      flex-wrap:wrap;\n",
              "      gap: 12px;\n",
              "    }\n",
              "\n",
              "    .colab-df-convert {\n",
              "      background-color: #E8F0FE;\n",
              "      border: none;\n",
              "      border-radius: 50%;\n",
              "      cursor: pointer;\n",
              "      display: none;\n",
              "      fill: #1967D2;\n",
              "      height: 32px;\n",
              "      padding: 0 0 0 0;\n",
              "      width: 32px;\n",
              "    }\n",
              "\n",
              "    .colab-df-convert:hover {\n",
              "      background-color: #E2EBFA;\n",
              "      box-shadow: 0px 1px 2px rgba(60, 64, 67, 0.3), 0px 1px 3px 1px rgba(60, 64, 67, 0.15);\n",
              "      fill: #174EA6;\n",
              "    }\n",
              "\n",
              "    [theme=dark] .colab-df-convert {\n",
              "      background-color: #3B4455;\n",
              "      fill: #D2E3FC;\n",
              "    }\n",
              "\n",
              "    [theme=dark] .colab-df-convert:hover {\n",
              "      background-color: #434B5C;\n",
              "      box-shadow: 0px 1px 3px 1px rgba(0, 0, 0, 0.15);\n",
              "      filter: drop-shadow(0px 1px 2px rgba(0, 0, 0, 0.3));\n",
              "      fill: #FFFFFF;\n",
              "    }\n",
              "  </style>\n",
              "\n",
              "      <script>\n",
              "        const buttonEl =\n",
              "          document.querySelector('#df-7dec4a87-891c-465f-84ff-c8cd74ff4b5d button.colab-df-convert');\n",
              "        buttonEl.style.display =\n",
              "          google.colab.kernel.accessAllowed ? 'block' : 'none';\n",
              "\n",
              "        async function convertToInteractive(key) {\n",
              "          const element = document.querySelector('#df-7dec4a87-891c-465f-84ff-c8cd74ff4b5d');\n",
              "          const dataTable =\n",
              "            await google.colab.kernel.invokeFunction('convertToInteractive',\n",
              "                                                     [key], {});\n",
              "          if (!dataTable) return;\n",
              "\n",
              "          const docLinkHtml = 'Like what you see? Visit the ' +\n",
              "            '<a target=\"_blank\" href=https://colab.research.google.com/notebooks/data_table.ipynb>data table notebook</a>'\n",
              "            + ' to learn more about interactive tables.';\n",
              "          element.innerHTML = '';\n",
              "          dataTable['output_type'] = 'display_data';\n",
              "          await google.colab.output.renderOutput(dataTable, element);\n",
              "          const docLink = document.createElement('div');\n",
              "          docLink.innerHTML = docLinkHtml;\n",
              "          element.appendChild(docLink);\n",
              "        }\n",
              "      </script>\n",
              "    </div>\n",
              "  </div>\n",
              "  "
            ]
          },
          "metadata": {},
          "execution_count": 91
        }
      ]
    }
  ]
}