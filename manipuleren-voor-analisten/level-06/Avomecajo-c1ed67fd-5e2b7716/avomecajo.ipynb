{
 "cells": [
  {
   "cell_type": "markdown",
   "source": [
    "# Manipuleren voor Analisten → 6.Data verrijken → 3.Avomecajo"
   ],
   "metadata": {
    "collapsed": false
   },
   "id": "181455f08c1f7d46"
  },
  {
   "cell_type": "code",
   "execution_count": 9,
   "outputs": [],
   "source": [
    "import pandas as pd\n",
    "\n",
    "df = pd.read_csv('avocado_prices.csv')"
   ],
   "metadata": {
    "collapsed": false,
    "ExecuteTime": {
     "end_time": "2023-08-09T17:38:10.174968Z",
     "start_time": "2023-08-09T17:38:10.159605Z"
    }
   },
   "id": "6f04b1e3f8aff75e"
  },
  {
   "cell_type": "markdown",
   "source": [
    "Zet de 'Date' kolom om naar het juiste datetype"
   ],
   "metadata": {
    "collapsed": false
   },
   "id": "6edb949329827b02"
  },
  {
   "cell_type": "code",
   "execution_count": 10,
   "outputs": [],
   "source": [
    "df['Date'] = pd.to_datetime(df['Date'])"
   ],
   "metadata": {
    "collapsed": false,
    "ExecuteTime": {
     "end_time": "2023-08-09T17:38:10.894677Z",
     "start_time": "2023-08-09T17:38:10.890060Z"
    }
   },
   "id": "b739a1cbef5902d2"
  },
  {
   "cell_type": "markdown",
   "source": [
    "Voeg 'Year' en 'Month' kolommen toe"
   ],
   "metadata": {
    "collapsed": false
   },
   "id": "d631419b1df2606c"
  },
  {
   "cell_type": "code",
   "execution_count": 11,
   "outputs": [],
   "source": [
    "df['Year'] = df['Date'].dt.year\n",
    "df['Month'] = df['Date'].dt.month"
   ],
   "metadata": {
    "collapsed": false,
    "ExecuteTime": {
     "end_time": "2023-08-09T17:38:11.881777Z",
     "start_time": "2023-08-09T17:38:11.877853Z"
    }
   },
   "id": "2a4966d55c8028a3"
  },
  {
   "cell_type": "markdown",
   "source": [
    "Maandnamen voor weergave"
   ],
   "metadata": {
    "collapsed": false
   },
   "id": "688ce4470a9d170b"
  },
  {
   "cell_type": "code",
   "execution_count": 12,
   "outputs": [],
   "source": [
    "maand_namen = ['januari', 'februari', 'maart', 'april', 'mei', 'juni', 'juli', 'augustus', 'september', 'oktober', 'november', 'december']"
   ],
   "metadata": {
    "collapsed": false,
    "ExecuteTime": {
     "end_time": "2023-08-09T17:38:13.121180Z",
     "start_time": "2023-08-09T17:38:13.118084Z"
    }
   },
   "id": "5e0fa7b8f4524de1"
  },
  {
   "cell_type": "markdown",
   "source": [
    "Bereken de gemiddelde avocadoprijs per maand en sorteer van laag naar hoog"
   ],
   "metadata": {
    "collapsed": false
   },
   "id": "fc1fb3539f796718"
  },
  {
   "cell_type": "code",
   "execution_count": 16,
   "outputs": [
    {
     "name": "stdout",
     "output_type": "stream",
     "text": [
      "Gemiddelde avocadoprijs per maand (laag naar hoog):\n"
     ]
    }
   ],
   "source": [
    "gemiddelde_prijs_per_maand = df.groupby('Month')['AveragePrice'].mean().sort_values(ascending=True)\n",
    "maand_met_hoogste_prijs = maand_namen[gemiddelde_prijs_per_maand.idxmax() - 1]  \n",
    "\n",
    "print(\"Gemiddelde avocadoprijs per maand (laag naar hoog):\")"
   ],
   "metadata": {
    "collapsed": false,
    "ExecuteTime": {
     "end_time": "2023-08-09T17:39:46.295484Z",
     "start_time": "2023-08-09T17:39:46.291245Z"
    }
   },
   "id": "51fffd08b1e800f1"
  },
  {
   "cell_type": "code",
   "execution_count": 17,
   "outputs": [
    {
     "name": "stdout",
     "output_type": "stream",
     "text": [
      "Month\n",
      "februari     1.27\n",
      "januari      1.31\n",
      "december     1.33\n",
      "maart        1.33\n",
      "mei          1.35\n",
      "april        1.37\n",
      "juni         1.41\n",
      "november     1.46\n",
      "juli         1.46\n",
      "augustus     1.51\n",
      "september    1.57\n",
      "oktober      1.58\n",
      "Name: AveragePrice, dtype: float64\n"
     ]
    }
   ],
   "source": [
    "gemiddelde_prijs_per_maand.index = gemiddelde_prijs_per_maand.index.map(lambda x: maand_namen[x - 1])\n",
    "gemiddelde_prijs_per_maand = gemiddelde_prijs_per_maand.round(2)  # Rond af naar 2 decimalen\n",
    "print(gemiddelde_prijs_per_maand)"
   ],
   "metadata": {
    "collapsed": false,
    "ExecuteTime": {
     "end_time": "2023-08-09T17:39:46.727692Z",
     "start_time": "2023-08-09T17:39:46.725778Z"
    }
   },
   "id": "6ff9a44a460d2175"
  },
  {
   "cell_type": "code",
   "execution_count": 18,
   "outputs": [
    {
     "name": "stdout",
     "output_type": "stream",
     "text": [
      "Maand waarin avocado's het duurst zijn: oktober\n"
     ]
    }
   ],
   "source": [
    "print(\"Maand waarin avocado's het duurst zijn:\", maand_met_hoogste_prijs)"
   ],
   "metadata": {
    "collapsed": false,
    "ExecuteTime": {
     "end_time": "2023-08-09T17:39:47.407715Z",
     "start_time": "2023-08-09T17:39:47.402806Z"
    }
   },
   "id": "8beebcb8ca4f164d"
  },
  {
   "cell_type": "markdown",
   "source": [
    "Bereken de gemiddelde avocadoprijs per jaar en sorteer van laag naar hoog"
   ],
   "metadata": {
    "collapsed": false
   },
   "id": "a24cbdda7eeed6aa"
  },
  {
   "cell_type": "code",
   "execution_count": 21,
   "outputs": [
    {
     "name": "stdout",
     "output_type": "stream",
     "text": [
      "\n",
      "Gemiddelde avocadoprijs per jaar (laag naar hoog):\n",
      "Year\n",
      "2016    1.34\n",
      "2018    1.35\n",
      "2015    1.38\n",
      "2017    1.52\n",
      "Name: AveragePrice, dtype: float64\n"
     ]
    }
   ],
   "source": [
    "gemiddelde_prijs_per_jaar = df.groupby('Year')['AveragePrice'].mean().sort_values(ascending=True)\n",
    "jaar_met_hoogste_prijs = gemiddelde_prijs_per_jaar.idxmax()\n",
    "\n",
    "print(\"\\nGemiddelde avocadoprijs per jaar (laag naar hoog):\")\n",
    "gemiddelde_prijs_per_jaar = gemiddelde_prijs_per_jaar.round(2)  # Rond af naar 2 decimalen\n",
    "print(gemiddelde_prijs_per_jaar)"
   ],
   "metadata": {
    "collapsed": false,
    "ExecuteTime": {
     "end_time": "2023-08-09T17:40:44.789162Z",
     "start_time": "2023-08-09T17:40:44.781792Z"
    }
   },
   "id": "997483658feeaedf"
  },
  {
   "cell_type": "code",
   "execution_count": 22,
   "outputs": [
    {
     "name": "stdout",
     "output_type": "stream",
     "text": [
      "Jaar waarin avocado's het duurst zijn: 2017\n"
     ]
    }
   ],
   "source": [
    "print(\"Jaar waarin avocado's het duurst zijn:\", jaar_met_hoogste_prijs)"
   ],
   "metadata": {
    "collapsed": false,
    "ExecuteTime": {
     "end_time": "2023-08-09T17:40:45.316194Z",
     "start_time": "2023-08-09T17:40:45.312818Z"
    }
   },
   "id": "6913432b825eca86"
  },
  {
   "cell_type": "code",
   "execution_count": null,
   "outputs": [],
   "source": [],
   "metadata": {
    "collapsed": false
   },
   "id": "61f0fb04d21fba4b"
  }
 ],
 "metadata": {
  "kernelspec": {
   "display_name": "Python 3",
   "language": "python",
   "name": "python3"
  },
  "language_info": {
   "codemirror_mode": {
    "name": "ipython",
    "version": 2
   },
   "file_extension": ".py",
   "mimetype": "text/x-python",
   "name": "python",
   "nbconvert_exporter": "python",
   "pygments_lexer": "ipython2",
   "version": "2.7.6"
  }
 },
 "nbformat": 4,
 "nbformat_minor": 5
}
