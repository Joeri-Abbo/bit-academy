{
 "cells": [
  {
   "cell_type": "markdown",
   "source": [
    "# Vluchtenanalyse\n",
    "In dit Jupyter Notebook ga je een dataset van vluchten opschonen, en ontbrekende gegevens aanvullen in een dataset van luchthavens. Later in het level ga je deze datasets linken en plotten op een kaart."
   ],
   "metadata": {}
  },
  {
   "cell_type": "markdown",
   "source": [
    "## 1. Data inlezen\n",
    "Lees de aangeleverde data in met pandas. Krijg een indruk van de data door de head te bekijken en het aantal datapunten te printen."
   ],
   "metadata": {}
  },
  {
   "cell_type": "code",
   "execution_count": 13,
   "source": [
    "import pandas as pd \n",
    "import geopandas as gpd"
   ],
   "outputs": [],
   "metadata": {
    "ExecuteTime": {
     "end_time": "2023-08-09T17:54:48.786300Z",
     "start_time": "2023-08-09T17:54:48.759973Z"
    }
   }
  },
  {
   "cell_type": "markdown",
   "source": [
    "We beginnen met het bestand `flights_usa.csv`."
   ],
   "metadata": {}
  },
  {
   "cell_type": "code",
   "execution_count": 20,
   "source": [
    "df_flights = pd.read_csv('flights_usa.csv')\n",
    "df_airports = pd.read_csv('airports_usa.csv')"
   ],
   "outputs": [],
   "metadata": {
    "ExecuteTime": {
     "end_time": "2023-08-09T17:56:05.768556Z",
     "start_time": "2023-08-09T17:56:05.657770Z"
    }
   }
  },
  {
   "cell_type": "markdown",
   "source": [
    "## 2. Data cleaning\n",
    "\n",
    "De datasets bevatten momenteel gebrekkige data waar je niet mee kunt werken. Dus ga je ontbrekende gegevens aanvullen, en incomplete data verwijderen."
   ],
   "metadata": {}
  },
  {
   "cell_type": "markdown",
   "source": [
    "### Checken op ontbrekende waardes in de kolom DESTINATION_AIRPORT:"
   ],
   "metadata": {
    "collapsed": false
   }
  },
  {
   "cell_type": "code",
   "execution_count": 15,
   "outputs": [
    {
     "name": "stdout",
     "output_type": "stream",
     "text": [
      "Aantal ontbrekende waardes in DESTINATION_AIRPORT: 4723\n"
     ]
    }
   ],
   "source": [
    "missing_values = df_flights['DESTINATION_AIRPORT'].isnull().sum()\n",
    "print(\"Aantal ontbrekende waardes in DESTINATION_AIRPORT:\", missing_values)"
   ],
   "metadata": {
    "collapsed": false,
    "ExecuteTime": {
     "end_time": "2023-08-09T17:54:48.875545Z",
     "start_time": "2023-08-09T17:54:48.873218Z"
    }
   }
  },
  {
   "cell_type": "markdown",
   "source": [
    "### Printen van het percentage ontbrekende aankomstvliegvelden:"
   ],
   "metadata": {
    "collapsed": false
   }
  },
  {
   "cell_type": "code",
   "execution_count": 16,
   "outputs": [
    {
     "name": "stdout",
     "output_type": "stream",
     "text": [
      "Percentage ontbrekende aankomstvliegvelden: 4.2141047146579105 %\n"
     ]
    }
   ],
   "source": [
    "total_rows = len(df_flights)\n",
    "percentage_missing = (missing_values / total_rows) * 100\n",
    "print(\"Percentage ontbrekende aankomstvliegvelden:\", percentage_missing, \"%\")"
   ],
   "metadata": {
    "collapsed": false,
    "ExecuteTime": {
     "end_time": "2023-08-09T17:54:48.878215Z",
     "start_time": "2023-08-09T17:54:48.875995Z"
    }
   }
  },
  {
   "cell_type": "markdown",
   "source": [
    "### Verwijderen van rijen waar DESTINATION_AIRPORT NaN is:"
   ],
   "metadata": {
    "collapsed": false
   }
  },
  {
   "cell_type": "code",
   "execution_count": 17,
   "outputs": [],
   "source": [
    "df_flights = df_flights.dropna(subset=['DESTINATION_AIRPORT'])"
   ],
   "metadata": {
    "collapsed": false,
    "ExecuteTime": {
     "end_time": "2023-08-09T17:54:48.890331Z",
     "start_time": "2023-08-09T17:54:48.882669Z"
    }
   }
  },
  {
   "cell_type": "markdown",
   "source": [
    "### Verwijderen van gecancelde vluchten:"
   ],
   "metadata": {
    "collapsed": false
   }
  },
  {
   "cell_type": "code",
   "execution_count": 18,
   "outputs": [],
   "source": [
    "df_flights = df_flights[df_flights['CANCELLED'] == 0]"
   ],
   "metadata": {
    "collapsed": false,
    "ExecuteTime": {
     "end_time": "2023-08-09T17:54:48.913166Z",
     "start_time": "2023-08-09T17:54:48.891023Z"
    }
   }
  },
  {
   "cell_type": "markdown",
   "source": [
    "### Printen van het aantal overgebleven datapunten:"
   ],
   "metadata": {
    "collapsed": false
   }
  },
  {
   "cell_type": "code",
   "execution_count": 21,
   "outputs": [
    {
     "name": "stdout",
     "output_type": "stream",
     "text": [
      "Aantal overgebleven datapunten: 112076\n"
     ]
    }
   ],
   "source": [
    "remaining_data_points = len(df_flights)\n",
    "print(\"Aantal overgebleven datapunten:\", remaining_data_points)"
   ],
   "metadata": {
    "collapsed": false,
    "ExecuteTime": {
     "end_time": "2023-08-09T17:56:15.961029Z",
     "start_time": "2023-08-09T17:56:15.956401Z"
    }
   }
  },
  {
   "cell_type": "markdown",
   "source": [
    "### Detecteer voor welke vliegvelden het latitude- of longitude-coördinaat ontbreekt."
   ],
   "metadata": {
    "collapsed": false
   }
  },
  {
   "cell_type": "code",
   "execution_count": 24,
   "outputs": [
    {
     "name": "stdout",
     "output_type": "stream",
     "text": [
      "    IATA_CODE                              AIRPORT           CITY STATE  \\\n",
      "276       SFO  San Francisco International Airport  San Francisco    CA   \n",
      "\n",
      "    COUNTRY  LATITUDE  LONGITUDE  \n",
      "276     USA       NaN        NaN  \n"
     ]
    }
   ],
   "source": [
    "missing_coords = df_airports[df_airports['LATITUDE'].isnull() | df_airports['LONGITUDE'].isnull()]\n",
    "print(missing_coords)"
   ],
   "metadata": {
    "collapsed": false,
    "ExecuteTime": {
     "end_time": "2023-08-09T18:03:24.945181Z",
     "start_time": "2023-08-09T18:03:24.942164Z"
    }
   }
  },
  {
   "cell_type": "markdown",
   "source": [
    "### SFO ontbreekt coördinaten. Vul deze aan met de coördinaten van Google."
   ],
   "metadata": {
    "collapsed": false
   }
  },
  {
   "cell_type": "code",
   "execution_count": 25,
   "outputs": [
    {
     "name": "stdout",
     "output_type": "stream",
     "text": [
      "    IATA_CODE                              AIRPORT           CITY STATE  \\\n",
      "276       SFO  San Francisco International Airport  San Francisco    CA   \n",
      "\n",
      "    COUNTRY   LATITUDE   LONGITUDE  \n",
      "276     USA  37.615223 -122.389977  \n"
     ]
    }
   ],
   "source": [
    "sfo_row = df_airports[df_airports['IATA_CODE'] == 'SFO']\n",
    "if not sfo_row.empty:\n",
    "    new_latitude = 37.615223  \n",
    "    new_longitude = -122.389977  \n",
    "    \n",
    "    df_airports.at[sfo_row.index[0], 'LATITUDE'] = new_latitude\n",
    "    df_airports.at[sfo_row.index[0], 'LONGITUDE'] = new_longitude\n",
    "    \n",
    "    print(df_airports.loc[sfo_row.index])\n",
    "else:\n",
    "    print(\"Rij met IATA_CODE 'SFO' niet gevonden.\")"
   ],
   "metadata": {
    "collapsed": false,
    "ExecuteTime": {
     "end_time": "2023-08-09T18:06:16.062059Z",
     "start_time": "2023-08-09T18:06:16.054213Z"
    }
   }
  },
  {
   "cell_type": "markdown",
   "source": [],
   "metadata": {
    "collapsed": false
   }
  },
  {
   "cell_type": "markdown",
   "source": [
    "## 3. Data linken\n",
    "\n",
    "Exercise 3: combineer de twee datasets."
   ],
   "metadata": {}
  },
  {
   "cell_type": "code",
   "execution_count": 19,
   "source": [],
   "outputs": [],
   "metadata": {
    "ExecuteTime": {
     "end_time": "2023-08-09T17:54:48.916524Z",
     "start_time": "2023-08-09T17:54:48.902052Z"
    }
   }
  },
  {
   "cell_type": "markdown",
   "source": [
    "## 4. Visualiseren op de kaart\n",
    "Exercise 4: gebruik geopandas en seaborn om de gecombineerde data te plotten op een kaart."
   ],
   "metadata": {}
  },
  {
   "cell_type": "code",
   "execution_count": 19,
   "source": [],
   "outputs": [],
   "metadata": {
    "ExecuteTime": {
     "end_time": "2023-08-09T17:54:48.916566Z",
     "start_time": "2023-08-09T17:54:48.903825Z"
    }
   }
  }
 ],
 "metadata": {
  "kernelspec": {
   "display_name": "Python 3",
   "language": "python",
   "name": "python3"
  },
  "language_info": {
   "codemirror_mode": {
    "name": "ipython",
    "version": 3
   },
   "file_extension": ".py",
   "mimetype": "text/x-python",
   "name": "python",
   "nbconvert_exporter": "python",
   "pygments_lexer": "ipython3",
   "version": "3.7.5"
  }
 },
 "nbformat": 4,
 "nbformat_minor": 4
}
