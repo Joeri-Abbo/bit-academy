{
 "cells": [
  {
   "cell_type": "markdown",
   "source": [
    "# Vluchtenanalyse\n",
    "In dit Jupyter Notebook ga je een dataset van vluchten opschonen, en ontbrekende gegevens aanvullen in een dataset van luchthavens. Later in het level ga je deze datasets linken en plotten op een kaart."
   ],
   "metadata": {}
  },
  {
   "cell_type": "markdown",
   "source": [
    "## 1. Data inlezen\n",
    "Lees de aangeleverde data in met pandas. Krijg een indruk van de data door de head te bekijken en het aantal datapunten te printen."
   ],
   "metadata": {}
  },
  {
   "cell_type": "code",
   "execution_count": 20,
   "source": [
    "import pandas as pd \n",
    "import geopandas as gpd"
   ],
   "outputs": [],
   "metadata": {
    "ExecuteTime": {
     "end_time": "2023-08-09T18:22:30.110169Z",
     "start_time": "2023-08-09T18:22:30.072893Z"
    }
   }
  },
  {
   "cell_type": "markdown",
   "source": [
    "We beginnen met het bestand `flights_usa.csv`."
   ],
   "metadata": {}
  },
  {
   "cell_type": "code",
   "execution_count": 21,
   "source": [
    "df_flights = pd.read_csv('flights_usa.csv')\n",
    "df_airports = pd.read_csv('airports_usa.csv')"
   ],
   "outputs": [],
   "metadata": {
    "ExecuteTime": {
     "end_time": "2023-08-09T18:22:30.178386Z",
     "start_time": "2023-08-09T18:22:30.076035Z"
    }
   }
  },
  {
   "cell_type": "markdown",
   "source": [
    "## 2. Data cleaning\n",
    "\n",
    "De datasets bevatten momenteel gebrekkige data waar je niet mee kunt werken. Dus ga je ontbrekende gegevens aanvullen, en incomplete data verwijderen."
   ],
   "metadata": {}
  },
  {
   "cell_type": "markdown",
   "source": [
    "### Checken op ontbrekende waardes in de kolom DESTINATION_AIRPORT:"
   ],
   "metadata": {
    "collapsed": false
   }
  },
  {
   "cell_type": "code",
   "execution_count": 22,
   "outputs": [
    {
     "name": "stdout",
     "output_type": "stream",
     "text": [
      "Aantal ontbrekende waardes in DESTINATION_AIRPORT: 4723\n"
     ]
    }
   ],
   "source": [
    "missing_values = df_flights['DESTINATION_AIRPORT'].isnull().sum()\n",
    "print(\"Aantal ontbrekende waardes in DESTINATION_AIRPORT:\", missing_values)"
   ],
   "metadata": {
    "collapsed": false,
    "ExecuteTime": {
     "end_time": "2023-08-09T18:22:30.183622Z",
     "start_time": "2023-08-09T18:22:30.180895Z"
    }
   }
  },
  {
   "cell_type": "markdown",
   "source": [
    "### Printen van het percentage ontbrekende aankomstvliegvelden:"
   ],
   "metadata": {
    "collapsed": false
   }
  },
  {
   "cell_type": "code",
   "execution_count": 23,
   "outputs": [
    {
     "name": "stdout",
     "output_type": "stream",
     "text": [
      "Percentage ontbrekende aankomstvliegvelden: 4.2141047146579105 %\n"
     ]
    }
   ],
   "source": [
    "total_rows = len(df_flights)\n",
    "percentage_missing = (missing_values / total_rows) * 100\n",
    "print(\"Percentage ontbrekende aankomstvliegvelden:\", percentage_missing, \"%\")"
   ],
   "metadata": {
    "collapsed": false,
    "ExecuteTime": {
     "end_time": "2023-08-09T18:22:30.185647Z",
     "start_time": "2023-08-09T18:22:30.184328Z"
    }
   }
  },
  {
   "cell_type": "markdown",
   "source": [
    "### Verwijderen van rijen waar DESTINATION_AIRPORT NaN is:"
   ],
   "metadata": {
    "collapsed": false
   }
  },
  {
   "cell_type": "code",
   "execution_count": 24,
   "outputs": [],
   "source": [
    "df_flights = df_flights.dropna(subset=['DESTINATION_AIRPORT'])"
   ],
   "metadata": {
    "collapsed": false,
    "ExecuteTime": {
     "end_time": "2023-08-09T18:22:30.195720Z",
     "start_time": "2023-08-09T18:22:30.188739Z"
    }
   }
  },
  {
   "cell_type": "markdown",
   "source": [
    "### Verwijderen van gecancelde vluchten:"
   ],
   "metadata": {
    "collapsed": false
   }
  },
  {
   "cell_type": "code",
   "execution_count": 25,
   "outputs": [],
   "source": [
    "df_flights = df_flights[df_flights['CANCELLED'] == 0]"
   ],
   "metadata": {
    "collapsed": false,
    "ExecuteTime": {
     "end_time": "2023-08-09T18:22:30.223003Z",
     "start_time": "2023-08-09T18:22:30.196654Z"
    }
   }
  },
  {
   "cell_type": "markdown",
   "source": [
    "### Printen van het aantal overgebleven datapunten:"
   ],
   "metadata": {
    "collapsed": false
   }
  },
  {
   "cell_type": "code",
   "execution_count": 26,
   "outputs": [
    {
     "name": "stdout",
     "output_type": "stream",
     "text": [
      "Aantal overgebleven datapunten: 105621\n"
     ]
    }
   ],
   "source": [
    "remaining_data_points = len(df_flights)\n",
    "print(\"Aantal overgebleven datapunten:\", remaining_data_points)"
   ],
   "metadata": {
    "collapsed": false,
    "ExecuteTime": {
     "end_time": "2023-08-09T18:22:30.226068Z",
     "start_time": "2023-08-09T18:22:30.204731Z"
    }
   }
  },
  {
   "cell_type": "markdown",
   "source": [
    "### Detecteer voor welke vliegvelden het latitude- of longitude-coördinaat ontbreekt."
   ],
   "metadata": {
    "collapsed": false
   }
  },
  {
   "cell_type": "code",
   "execution_count": 27,
   "outputs": [
    {
     "name": "stdout",
     "output_type": "stream",
     "text": [
      "    IATA_CODE                              AIRPORT           CITY STATE  \\\n",
      "276       SFO  San Francisco International Airport  San Francisco    CA   \n",
      "\n",
      "    COUNTRY  LATITUDE  LONGITUDE  \n",
      "276     USA       NaN        NaN  \n"
     ]
    }
   ],
   "source": [
    "missing_coords = df_airports[df_airports['LATITUDE'].isnull() | df_airports['LONGITUDE'].isnull()]\n",
    "print(missing_coords)"
   ],
   "metadata": {
    "collapsed": false,
    "ExecuteTime": {
     "end_time": "2023-08-09T18:22:30.226208Z",
     "start_time": "2023-08-09T18:22:30.209589Z"
    }
   }
  },
  {
   "cell_type": "markdown",
   "source": [
    "### SFO ontbreekt coördinaten. Vul deze aan met de coördinaten van Google."
   ],
   "metadata": {
    "collapsed": false
   }
  },
  {
   "cell_type": "code",
   "execution_count": 28,
   "outputs": [
    {
     "name": "stdout",
     "output_type": "stream",
     "text": [
      "    IATA_CODE                              AIRPORT           CITY STATE  \\\n",
      "276       SFO  San Francisco International Airport  San Francisco    CA   \n",
      "\n",
      "    COUNTRY   LATITUDE   LONGITUDE  \n",
      "276     USA  37.615223 -122.389977  \n"
     ]
    }
   ],
   "source": [
    "sfo_row = df_airports[df_airports['IATA_CODE'] == 'SFO']\n",
    "if not sfo_row.empty:\n",
    "    new_latitude = 37.615223  \n",
    "    new_longitude = -122.389977  \n",
    "    \n",
    "    df_airports.at[sfo_row.index[0], 'LATITUDE'] = new_latitude\n",
    "    df_airports.at[sfo_row.index[0], 'LONGITUDE'] = new_longitude\n",
    "    \n",
    "    print(df_airports.loc[sfo_row.index])\n",
    "else:\n",
    "    print(\"Rij met IATA_CODE 'SFO' niet gevonden.\")"
   ],
   "metadata": {
    "collapsed": false,
    "ExecuteTime": {
     "end_time": "2023-08-09T18:22:30.226351Z",
     "start_time": "2023-08-09T18:22:30.213554Z"
    }
   }
  },
  {
   "cell_type": "markdown",
   "source": [],
   "metadata": {
    "collapsed": false
   }
  },
  {
   "cell_type": "markdown",
   "source": [
    "## 3. Data linken\n",
    "\n",
    "Exercise 3: combineer de twee datasets."
   ],
   "metadata": {}
  },
  {
   "cell_type": "markdown",
   "source": [
    "### Bereken het aantal gelande vluchten per aankomstvliegveld"
   ],
   "metadata": {
    "collapsed": false
   }
  },
  {
   "cell_type": "code",
   "execution_count": 29,
   "outputs": [],
   "source": [
    "arriving_flights_counts = df_flights['DESTINATION_AIRPORT'].value_counts()"
   ],
   "metadata": {
    "collapsed": false,
    "ExecuteTime": {
     "end_time": "2023-08-09T18:22:30.226385Z",
     "start_time": "2023-08-09T18:22:30.218823Z"
    }
   }
  },
  {
   "cell_type": "markdown",
   "source": [
    "### Voeg de 'ARRIVING FLIGHTS' kolom toe aan het vliegvelden dataframe"
   ],
   "metadata": {
    "collapsed": false
   }
  },
  {
   "cell_type": "code",
   "execution_count": 30,
   "outputs": [],
   "source": [
    "df_airports['ARRIVING FLIGHTS'] = df_airports['IATA_CODE'].map(arriving_flights_counts)"
   ],
   "metadata": {
    "collapsed": false,
    "ExecuteTime": {
     "end_time": "2023-08-09T18:22:30.226415Z",
     "start_time": "2023-08-09T18:22:30.221487Z"
    }
   }
  },
  {
   "cell_type": "markdown",
   "source": [
    "### Filter alleen vliegvelden die in het vluchten dataframe voorkomen"
   ],
   "metadata": {
    "collapsed": false
   }
  },
  {
   "cell_type": "code",
   "execution_count": 31,
   "outputs": [],
   "source": [
    "df_airports = df_airports[df_airports['IATA_CODE'].isin(arriving_flights_counts.index)]"
   ],
   "metadata": {
    "collapsed": false,
    "ExecuteTime": {
     "end_time": "2023-08-09T18:22:30.226624Z",
     "start_time": "2023-08-09T18:22:30.224087Z"
    }
   }
  },
  {
   "cell_type": "markdown",
   "source": [
    "### Toon het aangepaste vliegvelden dataframe"
   ],
   "metadata": {
    "collapsed": false
   }
  },
  {
   "cell_type": "code",
   "execution_count": 32,
   "outputs": [
    {
     "name": "stdout",
     "output_type": "stream",
     "text": [
      "    IATA_CODE                                            AIRPORT  \\\n",
      "20        ATL   Hartsfield-Jackson Atlanta International Airport   \n",
      "22        AUS             Austin-Bergstrom International Airport   \n",
      "27        BET                                     Bethel Airport   \n",
      "38        BOI                 Boise Airport (Boise Air Terminal)   \n",
      "39        BOS   Gen. Edward Lawrence Logan International Airport   \n",
      "85        DEN                       Denver International Airport   \n",
      "140       HNL                     Honolulu International Airport   \n",
      "165       JFK  John F. Kennedy International Airport (New Yor...   \n",
      "173       LAS                     McCarran International Airport   \n",
      "181       LGA            LaGuardia Airport (Marine Air Terminal)   \n",
      "194       MDW               Chicago Midway International Airport   \n",
      "202       MIA                        Miami International Airport   \n",
      "215       MSP       Minneapolis-Saint Paul International Airport   \n",
      "216       MSY  Louis Armstrong New Orleans International Airport   \n",
      "227       ORD               Chicago O'Hare International Airport   \n",
      "275       SEA               Seattle-Tacoma International Airport   \n",
      "276       SFO                San Francisco International Airport   \n",
      "283       SJU             Luis Muñoz Marín International Airport   \n",
      "284       SLC               Salt Lake City International Airport   \n",
      "\n",
      "               CITY STATE COUNTRY   LATITUDE   LONGITUDE  ARRIVING FLIGHTS  \n",
      "20          Atlanta    GA     USA  33.640440  -84.426940           18194.0  \n",
      "22           Austin    TX     USA  30.194530  -97.669870            2254.0  \n",
      "27           Bethel    AK     USA  60.779780 -161.838000              46.0  \n",
      "38            Boise    ID     USA  43.564440 -116.222780             599.0  \n",
      "39           Boston    MA     USA  42.364350  -71.005180            5465.0  \n",
      "85           Denver    CO     USA  39.858410 -104.667000           10114.0  \n",
      "140        Honolulu    HI     USA  21.318690 -157.922410            2316.0  \n",
      "165        New York    NY     USA  40.639750  -73.778930            4718.0  \n",
      "173       Las Vegas    NV     USA  36.080360 -115.152330            6876.0  \n",
      "181        New York    NY     USA  40.777240  -73.872610            4984.0  \n",
      "194         Chicago    IL     USA  41.785980  -87.752420            4115.0  \n",
      "202           Miami    FL     USA  25.793250  -80.290560            3656.0  \n",
      "215     Minneapolis    MN     USA  44.880550  -93.216920            5751.0  \n",
      "216     New Orleans    LA     USA  29.993390  -90.258030            2094.0  \n",
      "227         Chicago    IL     USA  41.979600  -87.904460           14488.0  \n",
      "275         Seattle    WA     USA  47.448980 -122.309310            5890.0  \n",
      "276   San Francisco    CA     USA  37.615223 -122.389977            7581.0  \n",
      "283        San Juan    PR     USA  18.439420  -66.001830            1276.0  \n",
      "284  Salt Lake City    UT     USA  40.788390 -111.977770            4968.0  \n"
     ]
    }
   ],
   "source": [
    "print(df_airports)"
   ],
   "metadata": {
    "collapsed": false,
    "ExecuteTime": {
     "end_time": "2023-08-09T18:22:30.230745Z",
     "start_time": "2023-08-09T18:22:30.227698Z"
    }
   }
  },
  {
   "cell_type": "markdown",
   "source": [
    "## 4. Visualiseren op de kaart\n",
    "Exercise 4: gebruik geopandas en seaborn om de gecombineerde data te plotten op een kaart."
   ],
   "metadata": {}
  },
  {
   "cell_type": "code",
   "execution_count": 32,
   "source": [],
   "outputs": [],
   "metadata": {
    "ExecuteTime": {
     "end_time": "2023-08-09T18:22:30.230837Z",
     "start_time": "2023-08-09T18:22:30.229567Z"
    }
   }
  }
 ],
 "metadata": {
  "kernelspec": {
   "display_name": "Python 3",
   "language": "python",
   "name": "python3"
  },
  "language_info": {
   "codemirror_mode": {
    "name": "ipython",
    "version": 3
   },
   "file_extension": ".py",
   "mimetype": "text/x-python",
   "name": "python",
   "nbconvert_exporter": "python",
   "pygments_lexer": "ipython3",
   "version": "3.7.5"
  }
 },
 "nbformat": 4,
 "nbformat_minor": 4
}
