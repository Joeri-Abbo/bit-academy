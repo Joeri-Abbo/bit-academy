{
 "cells": [
  {
   "cell_type": "markdown",
   "source": [
    "## IMDB Inspector"
   ],
   "metadata": {
    "collapsed": false
   }
  },
  {
   "cell_type": "markdown",
   "source": [
    "Import pandas as pd"
   ],
   "metadata": {
    "collapsed": false
   }
  },
  {
   "cell_type": "code",
   "execution_count": 7,
   "outputs": [],
   "source": [
    "import pandas as pd"
   ],
   "metadata": {
    "collapsed": false,
    "ExecuteTime": {
     "end_time": "2023-07-18T17:40:27.768369Z",
     "start_time": "2023-07-18T17:40:27.760278Z"
    }
   }
  },
  {
   "cell_type": "markdown",
   "source": [
    "Laad het bestand in een Pandas dataframe met 'index' als index_col"
   ],
   "metadata": {
    "collapsed": false
   }
  },
  {
   "cell_type": "code",
   "execution_count": 8,
   "outputs": [],
   "source": [
    "df = pd.read_csv('IMDB_films.csv', index_col='index')"
   ],
   "metadata": {
    "collapsed": false,
    "ExecuteTime": {
     "end_time": "2023-07-18T17:40:28.906163Z",
     "start_time": "2023-07-18T17:40:28.855828Z"
    }
   }
  },
  {
   "cell_type": "markdown",
   "source": [
    "Print het aantal rijen"
   ],
   "metadata": {
    "collapsed": false
   }
  },
  {
   "cell_type": "code",
   "execution_count": 9,
   "outputs": [
    {
     "name": "stdout",
     "output_type": "stream",
     "text": [
      "Aantal datapunten: 21782\n"
     ]
    }
   ],
   "source": [
    "total = len(df)\n",
    "print(\"Aantal datapunten:\", total)"
   ],
   "metadata": {
    "collapsed": false,
    "ExecuteTime": {
     "end_time": "2023-07-18T17:40:29.991076Z",
     "start_time": "2023-07-18T17:40:29.987439Z"
    }
   }
  },
  {
   "cell_type": "markdown",
   "source": [
    "Verwijder dubbele rijen"
   ],
   "metadata": {
    "collapsed": false
   }
  },
  {
   "cell_type": "code",
   "execution_count": 10,
   "outputs": [],
   "source": [
    "df = df.drop_duplicates()"
   ],
   "metadata": {
    "collapsed": false,
    "ExecuteTime": {
     "end_time": "2023-07-18T17:40:31.222707Z",
     "start_time": "2023-07-18T17:40:31.187451Z"
    }
   }
  },
  {
   "cell_type": "markdown",
   "source": [
    "Print het aantal overgebleven datapunten"
   ],
   "metadata": {
    "collapsed": false
   }
  },
  {
   "cell_type": "code",
   "execution_count": 11,
   "outputs": [
    {
     "name": "stdout",
     "output_type": "stream",
     "text": [
      "Aantal overgebleven datapunten: 21770\n"
     ]
    }
   ],
   "source": [
    "print(\"Aantal overgebleven datapunten:\", len(df))"
   ],
   "metadata": {
    "collapsed": false,
    "ExecuteTime": {
     "end_time": "2023-07-18T17:40:33.412213Z",
     "start_time": "2023-07-18T17:40:33.402424Z"
    }
   }
  },
  {
   "cell_type": "markdown",
   "source": [
    "Bereken het aantal duplicaten"
   ],
   "metadata": {
    "collapsed": false
   }
  },
  {
   "cell_type": "code",
   "execution_count": 12,
   "outputs": [
    {
     "name": "stdout",
     "output_type": "stream",
     "text": [
      "Aantal duplicates: 12\n"
     ]
    }
   ],
   "source": [
    "\n",
    "print(\"Aantal duplicates:\", total - len(df))\n"
   ],
   "metadata": {
    "collapsed": false,
    "ExecuteTime": {
     "end_time": "2023-07-18T17:40:34.492327Z",
     "start_time": "2023-07-18T17:40:34.487138Z"
    }
   }
  },
  {
   "cell_type": "markdown",
   "source": [
    "Toon de head van het dataframe"
   ],
   "metadata": {
    "collapsed": false
   }
  },
  {
   "cell_type": "code",
   "execution_count": 13,
   "outputs": [
    {
     "data": {
      "text/plain": "                          title  year date_published    genre  duration  \\\nindex                                                                     \n0                    Miss Jerry  1894     1894-10-09  Romance        45   \n2                Den sorte drøm  1911     1911-08-19    Drama        53   \n9                   Richard III  1912     1912-10-15    Drama        55   \n10                     Atlantis  1913     1913-12-26    Drama       121   \n12     Il calvario di una madre  1913     1915-10-18    Drama        96   \n\n      language                                        description  \\\nindex                                                               \n0          NaN  The adventures of a female reporter in the 1890s.   \n2          NaN  Two men of high rank are both wooing the beaut...   \n9      English  Richard of Gloucester uses manipulation and mu...   \n10      Danish  After Dr. Friedrich's wife becomes mentally un...   \n12         NaN  Single mother is separated from her children d...   \n\n       reviews_from_users  reviews_from_critics  \nindex                                            \n0                     1.0                   2.0  \n2                     5.0                   2.0  \n9                     8.0                   1.0  \n10                    9.0                   9.0  \n12                   16.0                   7.0  ",
      "text/html": "<div>\n<style scoped>\n    .dataframe tbody tr th:only-of-type {\n        vertical-align: middle;\n    }\n\n    .dataframe tbody tr th {\n        vertical-align: top;\n    }\n\n    .dataframe thead th {\n        text-align: right;\n    }\n</style>\n<table border=\"1\" class=\"dataframe\">\n  <thead>\n    <tr style=\"text-align: right;\">\n      <th></th>\n      <th>title</th>\n      <th>year</th>\n      <th>date_published</th>\n      <th>genre</th>\n      <th>duration</th>\n      <th>language</th>\n      <th>description</th>\n      <th>reviews_from_users</th>\n      <th>reviews_from_critics</th>\n    </tr>\n    <tr>\n      <th>index</th>\n      <th></th>\n      <th></th>\n      <th></th>\n      <th></th>\n      <th></th>\n      <th></th>\n      <th></th>\n      <th></th>\n      <th></th>\n    </tr>\n  </thead>\n  <tbody>\n    <tr>\n      <th>0</th>\n      <td>Miss Jerry</td>\n      <td>1894</td>\n      <td>1894-10-09</td>\n      <td>Romance</td>\n      <td>45</td>\n      <td>NaN</td>\n      <td>The adventures of a female reporter in the 1890s.</td>\n      <td>1.0</td>\n      <td>2.0</td>\n    </tr>\n    <tr>\n      <th>2</th>\n      <td>Den sorte drøm</td>\n      <td>1911</td>\n      <td>1911-08-19</td>\n      <td>Drama</td>\n      <td>53</td>\n      <td>NaN</td>\n      <td>Two men of high rank are both wooing the beaut...</td>\n      <td>5.0</td>\n      <td>2.0</td>\n    </tr>\n    <tr>\n      <th>9</th>\n      <td>Richard III</td>\n      <td>1912</td>\n      <td>1912-10-15</td>\n      <td>Drama</td>\n      <td>55</td>\n      <td>English</td>\n      <td>Richard of Gloucester uses manipulation and mu...</td>\n      <td>8.0</td>\n      <td>1.0</td>\n    </tr>\n    <tr>\n      <th>10</th>\n      <td>Atlantis</td>\n      <td>1913</td>\n      <td>1913-12-26</td>\n      <td>Drama</td>\n      <td>121</td>\n      <td>Danish</td>\n      <td>After Dr. Friedrich's wife becomes mentally un...</td>\n      <td>9.0</td>\n      <td>9.0</td>\n    </tr>\n    <tr>\n      <th>12</th>\n      <td>Il calvario di una madre</td>\n      <td>1913</td>\n      <td>1915-10-18</td>\n      <td>Drama</td>\n      <td>96</td>\n      <td>NaN</td>\n      <td>Single mother is separated from her children d...</td>\n      <td>16.0</td>\n      <td>7.0</td>\n    </tr>\n  </tbody>\n</table>\n</div>"
     },
     "execution_count": 13,
     "metadata": {},
     "output_type": "execute_result"
    }
   ],
   "source": [
    "df.head()"
   ],
   "metadata": {
    "collapsed": false,
    "ExecuteTime": {
     "end_time": "2023-07-18T17:40:36.272192Z",
     "start_time": "2023-07-18T17:40:36.254355Z"
    }
   }
  },
  {
   "cell_type": "markdown",
   "source": [
    "Unieke genres ophalen"
   ],
   "metadata": {
    "collapsed": false
   }
  },
  {
   "cell_type": "code",
   "execution_count": 14,
   "outputs": [
    {
     "name": "stdout",
     "output_type": "stream",
     "text": [
      "['Romance' 'Drama' 'Western' 'Comedy' 'Adventure' 'Sci-Fi'\n",
      " 'Science Fiction' 'sci-fi' 'SciFi' 'Sci Fi']\n"
     ]
    }
   ],
   "source": [
    "print( df['genre'].unique())"
   ],
   "metadata": {
    "collapsed": false,
    "ExecuteTime": {
     "end_time": "2023-07-18T17:42:04.111708Z",
     "start_time": "2023-07-18T17:42:04.105032Z"
    }
   }
  },
  {
   "cell_type": "markdown",
   "source": [
    "Vervang de sci-fi genre met Sci-Fi"
   ],
   "metadata": {
    "collapsed": false
   }
  },
  {
   "cell_type": "code",
   "execution_count": 17,
   "outputs": [],
   "source": [
    "df['genre'] = df['genre'].replace(['Science Fiction', 'SciFi',  'Sci Fi', 'sci-fi'], 'Sci-Fi')\n"
   ],
   "metadata": {
    "collapsed": false,
    "ExecuteTime": {
     "end_time": "2023-07-18T17:43:28.764423Z",
     "start_time": "2023-07-18T17:43:28.756448Z"
    }
   }
  },
  {
   "cell_type": "markdown",
   "source": [
    "Toon alle unique genres"
   ],
   "metadata": {
    "collapsed": false
   }
  },
  {
   "cell_type": "code",
   "execution_count": 19,
   "outputs": [
    {
     "name": "stdout",
     "output_type": "stream",
     "text": [
      "['Romance' 'Drama' 'Western' 'Comedy' 'Adventure' 'Sci-Fi']\n"
     ]
    }
   ],
   "source": [
    "\n",
    "print( df['genre'].unique())\n"
   ],
   "metadata": {
    "collapsed": false,
    "ExecuteTime": {
     "end_time": "2023-07-18T17:44:20.774867Z",
     "start_time": "2023-07-18T17:44:20.771428Z"
    }
   }
  },
  {
   "cell_type": "code",
   "execution_count": null,
   "outputs": [],
   "source": [],
   "metadata": {
    "collapsed": false
   }
  }
 ],
 "metadata": {
  "kernelspec": {
   "display_name": "Python 3",
   "language": "python",
   "name": "python3"
  },
  "language_info": {
   "codemirror_mode": {
    "name": "ipython",
    "version": 2
   },
   "file_extension": ".py",
   "mimetype": "text/x-python",
   "name": "python",
   "nbconvert_exporter": "python",
   "pygments_lexer": "ipython2",
   "version": "2.7.6"
  }
 },
 "nbformat": 4,
 "nbformat_minor": 0
}
