{
 "cells": [
  {
   "cell_type": "markdown",
   "source": [
    "## Delete Those Duplicates!"
   ],
   "metadata": {
    "collapsed": false
   }
  },
  {
   "cell_type": "markdown",
   "source": [
    "Import pandas as pd"
   ],
   "metadata": {
    "collapsed": false
   }
  },
  {
   "cell_type": "code",
   "execution_count": 10,
   "outputs": [],
   "source": [
    "import pandas as pd"
   ],
   "metadata": {
    "collapsed": false,
    "ExecuteTime": {
     "end_time": "2023-07-13T20:41:10.905464Z",
     "start_time": "2023-07-13T20:41:10.901328Z"
    }
   }
  },
  {
   "cell_type": "markdown",
   "source": [
    "Laad het bestand in een Pandas dataframe met 'index' als index_col"
   ],
   "metadata": {
    "collapsed": false
   }
  },
  {
   "cell_type": "code",
   "execution_count": 11,
   "outputs": [],
   "source": [
    "df = pd.read_csv('IMDB_films.csv', index_col='index')"
   ],
   "metadata": {
    "collapsed": false,
    "ExecuteTime": {
     "end_time": "2023-07-13T20:41:11.335554Z",
     "start_time": "2023-07-13T20:41:11.275387Z"
    }
   }
  },
  {
   "cell_type": "markdown",
   "source": [
    "Print het aantal rijen"
   ],
   "metadata": {
    "collapsed": false
   }
  },
  {
   "cell_type": "code",
   "execution_count": 12,
   "outputs": [
    {
     "name": "stdout",
     "output_type": "stream",
     "text": [
      "Aantal datapunten: 21782\n"
     ]
    }
   ],
   "source": [
    "total = len(df)\n",
    "print(\"Aantal datapunten:\", total)"
   ],
   "metadata": {
    "collapsed": false,
    "ExecuteTime": {
     "end_time": "2023-07-13T20:41:11.680185Z",
     "start_time": "2023-07-13T20:41:11.675663Z"
    }
   }
  },
  {
   "cell_type": "markdown",
   "source": [
    "Verwijder dubbele rijen"
   ],
   "metadata": {
    "collapsed": false
   }
  },
  {
   "cell_type": "code",
   "execution_count": 13,
   "outputs": [],
   "source": [
    "df = df.drop_duplicates()"
   ],
   "metadata": {
    "collapsed": false,
    "ExecuteTime": {
     "end_time": "2023-07-13T20:41:12.401354Z",
     "start_time": "2023-07-13T20:41:12.389530Z"
    }
   }
  },
  {
   "cell_type": "markdown",
   "source": [
    "Print het aantal overgebleven datapunten"
   ],
   "metadata": {
    "collapsed": false
   }
  },
  {
   "cell_type": "code",
   "execution_count": 14,
   "outputs": [
    {
     "name": "stdout",
     "output_type": "stream",
     "text": [
      "Aantal overgebleven datapunten: 21770\n"
     ]
    }
   ],
   "source": [
    "print(\"Aantal overgebleven datapunten:\", len(df))"
   ],
   "metadata": {
    "collapsed": false,
    "ExecuteTime": {
     "end_time": "2023-07-13T20:41:13.726725Z",
     "start_time": "2023-07-13T20:41:13.718995Z"
    }
   }
  },
  {
   "cell_type": "markdown",
   "source": [
    "Bereken het aantal duplicaten"
   ],
   "metadata": {
    "collapsed": false
   }
  },
  {
   "cell_type": "code",
   "execution_count": 15,
   "outputs": [
    {
     "name": "stdout",
     "output_type": "stream",
     "text": [
      "Aantal duplicates: 12\n"
     ]
    }
   ],
   "source": [
    "\n",
    "print(\"Aantal duplicates:\", total - len(df))\n"
   ],
   "metadata": {
    "collapsed": false,
    "ExecuteTime": {
     "end_time": "2023-07-13T20:41:26.896565Z",
     "start_time": "2023-07-13T20:41:26.892765Z"
    }
   }
  },
  {
   "cell_type": "code",
   "execution_count": null,
   "outputs": [],
   "source": [],
   "metadata": {
    "collapsed": false
   }
  }
 ],
 "metadata": {
  "kernelspec": {
   "display_name": "Python 3",
   "language": "python",
   "name": "python3"
  },
  "language_info": {
   "codemirror_mode": {
    "name": "ipython",
    "version": 2
   },
   "file_extension": ".py",
   "mimetype": "text/x-python",
   "name": "python",
   "nbconvert_exporter": "python",
   "pygments_lexer": "ipython2",
   "version": "2.7.6"
  }
 },
 "nbformat": 4,
 "nbformat_minor": 0
}
