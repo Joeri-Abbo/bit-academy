{
 "cells": [
  {
   "cell_type": "markdown",
   "source": [
    "# Manipuleren voor Analisten → 3.Omgaan met missing values → 3.Weg met die kolommen!"
   ],
   "metadata": {
    "collapsed": false
   }
  },
  {
   "cell_type": "code",
   "execution_count": 7,
   "outputs": [],
   "source": [
    "import pandas as pd\n",
    "\n",
    "df = pd.read_csv('video_games_sales.csv')"
   ],
   "metadata": {
    "collapsed": false,
    "ExecuteTime": {
     "end_time": "2023-08-09T16:03:22.359137Z",
     "start_time": "2023-08-09T16:03:22.341380Z"
    }
   }
  },
  {
   "cell_type": "markdown",
   "source": [
    "Print het gemiddelde van de kolom EU_Sales\n"
   ],
   "metadata": {
    "collapsed": false
   }
  },
  {
   "cell_type": "code",
   "execution_count": 8,
   "outputs": [
    {
     "name": "stdout",
     "output_type": "stream",
     "text": [
      "Voor het opvullen: 0.14876714306337524\n"
     ]
    }
   ],
   "source": [
    "eu_sales_mean = df['EU_Sales'].mean()\n",
    "print(\"Voor het opvullen:\", eu_sales_mean)"
   ],
   "metadata": {
    "collapsed": false,
    "ExecuteTime": {
     "end_time": "2023-08-09T16:03:23.174771Z",
     "start_time": "2023-08-09T16:03:23.172439Z"
    }
   }
  },
  {
   "cell_type": "markdown",
   "source": [
    "Vul NaN-waarden in de kolom EU_Sales in met het gemiddelde"
   ],
   "metadata": {
    "collapsed": false
   }
  },
  {
   "cell_type": "code",
   "execution_count": 9,
   "outputs": [],
   "source": [
    "df['EU_Sales'].fillna(eu_sales_mean, inplace=True)"
   ],
   "metadata": {
    "collapsed": false,
    "ExecuteTime": {
     "end_time": "2023-08-09T16:03:24.307979Z",
     "start_time": "2023-08-09T16:03:24.304791Z"
    }
   }
  },
  {
   "cell_type": "markdown",
   "source": [
    "Print het gemiddelde van de EU_Sales kolom na het invullen van NaN-waarden"
   ],
   "metadata": {
    "collapsed": false
   }
  },
  {
   "cell_type": "code",
   "execution_count": 10,
   "outputs": [
    {
     "name": "stdout",
     "output_type": "stream",
     "text": [
      "Na het opvullen: 0.14876714306337518\n"
     ]
    }
   ],
   "source": [
    "new_eu_sales_mean = df['EU_Sales'].mean()\n",
    "print(\"Na het opvullen:\", new_eu_sales_mean)"
   ],
   "metadata": {
    "collapsed": false,
    "ExecuteTime": {
     "end_time": "2023-08-09T16:03:25.384468Z",
     "start_time": "2023-08-09T16:03:25.381970Z"
    }
   }
  },
  {
   "cell_type": "markdown",
   "source": [
    "Print het percentage NaN-waarden in de kolom EU_Sales"
   ],
   "metadata": {
    "collapsed": false
   }
  },
  {
   "cell_type": "code",
   "execution_count": 11,
   "outputs": [
    {
     "name": "stdout",
     "output_type": "stream",
     "text": [
      "Percentage NaN na opvullen: 0.0\n"
     ]
    }
   ],
   "source": [
    "nan_percentage = (df['EU_Sales'].isna().sum() / len(df)) * 100\n",
    "print(\"Percentage NaN na opvullen:\", nan_percentage)"
   ],
   "metadata": {
    "collapsed": false,
    "ExecuteTime": {
     "end_time": "2023-08-09T16:03:26.511041Z",
     "start_time": "2023-08-09T16:03:26.507735Z"
    }
   }
  },
  {
   "cell_type": "markdown",
   "source": [
    "Rond het nieuwe gemiddelde af op het juiste aantal significante cijfers"
   ],
   "metadata": {
    "collapsed": false
   }
  },
  {
   "cell_type": "code",
   "execution_count": 12,
   "outputs": [
    {
     "name": "stdout",
     "output_type": "stream",
     "text": [
      "Na significantie: 0.15\n"
     ]
    }
   ],
   "source": [
    "rounded_eu_sales_mean = round(new_eu_sales_mean, 2)\n",
    "print(\"Na significantie:\", rounded_eu_sales_mean)"
   ],
   "metadata": {
    "collapsed": false,
    "ExecuteTime": {
     "end_time": "2023-08-09T16:03:27.739325Z",
     "start_time": "2023-08-09T16:03:27.736931Z"
    }
   }
  },
  {
   "cell_type": "code",
   "execution_count": null,
   "outputs": [],
   "source": [],
   "metadata": {
    "collapsed": false
   }
  }
 ],
 "metadata": {
  "kernelspec": {
   "display_name": "Python 3",
   "language": "python",
   "name": "python3"
  },
  "language_info": {
   "codemirror_mode": {
    "name": "ipython",
    "version": 2
   },
   "file_extension": ".py",
   "mimetype": "text/x-python",
   "name": "python",
   "nbconvert_exporter": "python",
   "pygments_lexer": "ipython2",
   "version": "2.7.6"
  }
 },
 "nbformat": 4,
 "nbformat_minor": 0
}
