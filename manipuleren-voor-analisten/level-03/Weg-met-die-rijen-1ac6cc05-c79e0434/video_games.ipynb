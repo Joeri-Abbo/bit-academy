{
 "cells": [
  {
   "cell_type": "code",
   "execution_count": 1,
   "metadata": {
    "collapsed": true,
    "ExecuteTime": {
     "end_time": "2023-07-18T17:57:10.048322Z",
     "start_time": "2023-07-18T17:57:09.836545Z"
    }
   },
   "outputs": [],
   "source": [
    "import pandas as pd"
   ]
  },
  {
   "cell_type": "code",
   "execution_count": 2,
   "outputs": [],
   "source": [
    "df = pd.read_csv('video_games_sales.csv', index_col='Rank')\n"
   ],
   "metadata": {
    "collapsed": false,
    "ExecuteTime": {
     "end_time": "2023-07-18T17:57:10.080835Z",
     "start_time": "2023-07-18T17:57:10.057221Z"
    }
   }
  },
  {
   "cell_type": "markdown",
   "source": [
    "Toon per kolom het percentage missende waarden"
   ],
   "metadata": {
    "collapsed": false
   }
  },
  {
   "cell_type": "code",
   "execution_count": 3,
   "outputs": [
    {
     "name": "stdout",
     "output_type": "stream",
     "text": [
      "Name: 0.00%\n",
      "Platform: 0.00%\n",
      "Year: 1.63%\n",
      "Genre: 0.00%\n",
      "Publisher: 0.35%\n",
      "NA_Sales: 0.00%\n",
      "EU_Sales: 16.53%\n",
      "JP_Sales: 0.00%\n",
      "Other_Sales: 0.00%\n",
      "Global_Sales: 0.00%\n"
     ]
    }
   ],
   "source": [
    "missing_values_sum = df.isnull().sum()\n",
    "\n",
    "total_datapoints = df.shape[0]\n",
    "missing_values_percentage = (missing_values_sum / total_datapoints) * 100\n",
    "\n",
    "for column, percentage in missing_values_percentage.items():\n",
    "    print(f\"{column}: {percentage:.2f}%\")"
   ],
   "metadata": {
    "collapsed": false,
    "ExecuteTime": {
     "end_time": "2023-07-18T17:57:10.095377Z",
     "start_time": "2023-07-18T17:57:10.086440Z"
    }
   }
  },
  {
   "cell_type": "markdown",
   "source": [
    "Verwijder de kolommen met invalide waarden"
   ],
   "metadata": {
    "collapsed": false
   }
  },
  {
   "cell_type": "code",
   "execution_count": 5,
   "outputs": [
    {
     "name": "stdout",
     "output_type": "stream",
     "text": [
      "Oorspronkelijke aantal datapunten: 13592\n",
      "Na het verwijderen van rijen: 13592\n"
     ]
    }
   ],
   "source": [
    "\n",
    "print(\"Oorspronkelijke aantal datapunten:\", len(df))\n",
    "df.dropna(subset=['EU_Sales', 'Year', 'Publisher'], inplace=True)\n",
    "print(\"Na het verwijderen van rijen:\", len(df))"
   ],
   "metadata": {
    "collapsed": false,
    "ExecuteTime": {
     "end_time": "2023-07-18T18:04:45.742410Z",
     "start_time": "2023-07-18T18:04:45.740523Z"
    }
   }
  }
 ],
 "metadata": {
  "kernelspec": {
   "display_name": "Python 3",
   "language": "python",
   "name": "python3"
  },
  "language_info": {
   "codemirror_mode": {
    "name": "ipython",
    "version": 2
   },
   "file_extension": ".py",
   "mimetype": "text/x-python",
   "name": "python",
   "nbconvert_exporter": "python",
   "pygments_lexer": "ipython2",
   "version": "2.7.6"
  }
 },
 "nbformat": 4,
 "nbformat_minor": 0
}
