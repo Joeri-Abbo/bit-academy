{
 "cells": [
  {
   "cell_type": "markdown",
   "source": [
    "# Manipuleren voor Analisten → 3.Omgaan met missing values → 5.Sales Calculator"
   ],
   "metadata": {
    "collapsed": false
   }
  },
  {
   "cell_type": "code",
   "execution_count": 5,
   "outputs": [],
   "source": [
    "import pandas as pd\n",
    "\n",
    "df = pd.read_csv('video_games_sales.csv')"
   ],
   "metadata": {
    "collapsed": false,
    "ExecuteTime": {
     "end_time": "2023-08-09T16:39:24.808718Z",
     "start_time": "2023-08-09T16:39:24.788153Z"
    }
   }
  },
  {
   "cell_type": "markdown",
   "source": [
    "Bereken de ontbrekende EU_Sales waarden op basis van de gegeven formule"
   ],
   "metadata": {
    "collapsed": false
   }
  },
  {
   "cell_type": "code",
   "execution_count": 6,
   "outputs": [],
   "source": [
    "df['EU_Sales'] = df['Global_Sales'] - df['NA_Sales'] - df['JP_Sales'] - df['Other_Sales']"
   ],
   "metadata": {
    "collapsed": false,
    "ExecuteTime": {
     "end_time": "2023-08-09T16:39:25.328114Z",
     "start_time": "2023-08-09T16:39:25.321266Z"
    }
   }
  },
  {
   "cell_type": "markdown",
   "source": [
    "Print het nieuwe gemiddelde van de EU_Sales kolom"
   ],
   "metadata": {
    "collapsed": false
   }
  },
  {
   "cell_type": "code",
   "execution_count": 7,
   "outputs": [
    {
     "name": "stdout",
     "output_type": "stream",
     "text": [
      "Echte gemiddelde EU_Sales:: 0.15\n"
     ]
    }
   ],
   "source": [
    "new_eu_sales_mean = df['EU_Sales'].mean()\n",
    "rounded_eu_sales_mean = round(new_eu_sales_mean, 2)\n",
    "\n",
    "print(\"Echte gemiddelde EU_Sales::\", rounded_eu_sales_mean)"
   ],
   "metadata": {
    "collapsed": false,
    "ExecuteTime": {
     "end_time": "2023-08-09T16:39:26.135157Z",
     "start_time": "2023-08-09T16:39:26.132512Z"
    }
   }
  }
 ],
 "metadata": {
  "kernelspec": {
   "display_name": "Python 3",
   "language": "python",
   "name": "python3"
  },
  "language_info": {
   "codemirror_mode": {
    "name": "ipython",
    "version": 2
   },
   "file_extension": ".py",
   "mimetype": "text/x-python",
   "name": "python",
   "nbconvert_exporter": "python",
   "pygments_lexer": "ipython2",
   "version": "2.7.6"
  }
 },
 "nbformat": 4,
 "nbformat_minor": 0
}
