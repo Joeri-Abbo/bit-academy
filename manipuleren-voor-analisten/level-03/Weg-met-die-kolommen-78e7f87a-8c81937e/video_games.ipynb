{
 "cells": [
  {
   "cell_type": "markdown",
   "source": [
    "# Manipuleren voor Analisten → 3.Omgaan met missing values → 3.Weg met die kolommen!"
   ],
   "metadata": {
    "collapsed": false
   }
  },
  {
   "cell_type": "code",
   "execution_count": 32,
   "outputs": [],
   "source": [
    "import pandas as pd\n",
    "\n",
    "df = pd.read_csv('video_games_sales.csv')"
   ],
   "metadata": {
    "collapsed": false,
    "ExecuteTime": {
     "end_time": "2023-08-09T15:36:46.627412Z",
     "start_time": "2023-08-09T15:36:46.592375Z"
    }
   }
  },
  {
   "cell_type": "markdown",
   "source": [
    "Verwijder de kolommen met invalide waarden"
   ],
   "metadata": {
    "collapsed": false
   }
  },
  {
   "cell_type": "code",
   "execution_count": 33,
   "outputs": [
    {
     "name": "stdout",
     "output_type": "stream",
     "text": [
      "Aantal kolommen voor het verwijderen van NaN-waarden: 11\n",
      "Aantal kolommen na het verwijderen van NaN-waarden: 8\n"
     ]
    }
   ],
   "source": [
    "\n",
    "print(\"Aantal kolommen voor het verwijderen van NaN-waarden:\", len(df.columns))\n",
    "\n",
    "# Verwijder de kolommen waarin NaN-waarden voorkomen\n",
    "df.dropna(axis=1, inplace=True)\n",
    "\n",
    "# Print het aantal kolommen na het verwijderen van NaN-waarden\n",
    "print(\"Aantal kolommen na het verwijderen van NaN-waarden:\", len(df.columns))"
   ],
   "metadata": {
    "collapsed": false,
    "ExecuteTime": {
     "end_time": "2023-08-09T15:36:46.933023Z",
     "start_time": "2023-08-09T15:36:46.930264Z"
    }
   }
  },
  {
   "cell_type": "code",
   "execution_count": 33,
   "outputs": [],
   "source": [],
   "metadata": {
    "collapsed": false,
    "ExecuteTime": {
     "end_time": "2023-08-09T15:36:47.143046Z",
     "start_time": "2023-08-09T15:36:47.123651Z"
    }
   }
  },
  {
   "cell_type": "code",
   "execution_count": null,
   "outputs": [],
   "source": [],
   "metadata": {
    "collapsed": false
   }
  }
 ],
 "metadata": {
  "kernelspec": {
   "display_name": "Python 3",
   "language": "python",
   "name": "python3"
  },
  "language_info": {
   "codemirror_mode": {
    "name": "ipython",
    "version": 2
   },
   "file_extension": ".py",
   "mimetype": "text/x-python",
   "name": "python",
   "nbconvert_exporter": "python",
   "pygments_lexer": "ipython2",
   "version": "2.7.6"
  }
 },
 "nbformat": 4,
 "nbformat_minor": 0
}
