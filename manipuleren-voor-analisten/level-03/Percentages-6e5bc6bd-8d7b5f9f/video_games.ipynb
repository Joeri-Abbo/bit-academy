{
 "cells": [
  {
   "cell_type": "code",
   "execution_count": 1,
   "metadata": {
    "collapsed": true,
    "ExecuteTime": {
     "end_time": "2023-07-18T17:52:16.167623Z",
     "start_time": "2023-07-18T17:52:15.939552Z"
    }
   },
   "outputs": [],
   "source": [
    "import pandas as pd"
   ]
  },
  {
   "cell_type": "code",
   "execution_count": 3,
   "outputs": [],
   "source": [
    "df = pd.read_csv('video_games_sales.csv', index_col='Rank')\n"
   ],
   "metadata": {
    "collapsed": false,
    "ExecuteTime": {
     "end_time": "2023-07-18T17:52:42.056770Z",
     "start_time": "2023-07-18T17:52:42.033545Z"
    }
   }
  },
  {
   "cell_type": "markdown",
   "source": [
    "Toon per kolom het percentage missende waarden"
   ],
   "metadata": {
    "collapsed": false
   }
  },
  {
   "cell_type": "code",
   "execution_count": 8,
   "outputs": [
    {
     "name": "stdout",
     "output_type": "stream",
     "text": [
      "Name: 0.00%\n",
      "Platform: 0.00%\n",
      "Year: 1.63%\n",
      "Genre: 0.00%\n",
      "Publisher: 0.35%\n",
      "NA_Sales: 0.00%\n",
      "EU_Sales: 16.53%\n",
      "JP_Sales: 0.00%\n",
      "Other_Sales: 0.00%\n",
      "Global_Sales: 0.00%\n"
     ]
    }
   ],
   "source": [
    "missing_values_sum = df.isnull().sum()\n",
    "\n",
    "total_datapoints = df.shape[0]\n",
    "missing_values_percentage = (missing_values_sum / total_datapoints) * 100\n",
    "\n",
    "for column, percentage in missing_values_percentage.items():\n",
    "    print(f\"{column}: {percentage:.2f}%\")"
   ],
   "metadata": {
    "collapsed": false,
    "ExecuteTime": {
     "end_time": "2023-07-18T17:55:53.865450Z",
     "start_time": "2023-07-18T17:55:53.840770Z"
    }
   }
  },
  {
   "cell_type": "code",
   "execution_count": null,
   "outputs": [],
   "source": [],
   "metadata": {
    "collapsed": false
   }
  }
 ],
 "metadata": {
  "kernelspec": {
   "display_name": "Python 3",
   "language": "python",
   "name": "python3"
  },
  "language_info": {
   "codemirror_mode": {
    "name": "ipython",
    "version": 2
   },
   "file_extension": ".py",
   "mimetype": "text/x-python",
   "name": "python",
   "nbconvert_exporter": "python",
   "pygments_lexer": "ipython2",
   "version": "2.7.6"
  }
 },
 "nbformat": 4,
 "nbformat_minor": 0
}
