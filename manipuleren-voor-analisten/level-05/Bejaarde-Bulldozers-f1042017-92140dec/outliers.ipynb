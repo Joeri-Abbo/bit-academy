{
 "cells": [
  {
   "cell_type": "markdown",
   "source": [
    "# Manipuleren voor Analisten → 5.Buitenbeentjes → 3.Bejaarde Bulldozers"
   ],
   "metadata": {
    "collapsed": false
   }
  },
  {
   "cell_type": "code",
   "execution_count": 12,
   "outputs": [],
   "source": [
    "import pandas as pd\n",
    "import matplotlib.pyplot as plt\n",
    "\n",
    "df = pd.read_csv('bulldozers.csv')"
   ],
   "metadata": {
    "collapsed": false,
    "ExecuteTime": {
     "end_time": "2023-08-09T17:18:10.700102Z",
     "start_time": "2023-08-09T17:18:10.627731Z"
    }
   }
  },
  {
   "cell_type": "markdown",
   "source": [
    "Bereken min en max waarden van MachineHoursCurrentMeter"
   ],
   "metadata": {
    "collapsed": false
   }
  },
  {
   "cell_type": "code",
   "execution_count": 13,
   "outputs": [
    {
     "name": "stdout",
     "output_type": "stream",
     "text": [
      "Minimale waarde: 0\n",
      "Maximale waarde: 424500\n"
     ]
    }
   ],
   "source": [
    "min_machine_hours = df['MachineHoursCurrentMeter'].min()\n",
    "max_machine_hours = df['MachineHoursCurrentMeter'].max()\n",
    "\n",
    "print(f\"Minimale waarde: {round(min_machine_hours)}\")\n",
    "print(f\"Maximale waarde: {round(max_machine_hours)}\")"
   ],
   "metadata": {
    "collapsed": false,
    "ExecuteTime": {
     "end_time": "2023-08-09T17:18:11.394738Z",
     "start_time": "2023-08-09T17:18:11.338078Z"
    }
   }
  },
  {
   "cell_type": "markdown",
   "source": [
    "Bereken de leeftijd van de bulldozer in jaren"
   ],
   "metadata": {
    "collapsed": false
   }
  },
  {
   "cell_type": "code",
   "execution_count": 14,
   "outputs": [],
   "source": [
    "df['MachineAgeYears'] = df['MachineHoursCurrentMeter'] / 8765"
   ],
   "metadata": {
    "collapsed": false,
    "ExecuteTime": {
     "end_time": "2023-08-09T17:18:12.350484Z",
     "start_time": "2023-08-09T17:18:12.347716Z"
    }
   }
  },
  {
   "cell_type": "markdown",
   "source": [
    "Vind de oudste bulldozer"
   ],
   "metadata": {
    "collapsed": false
   }
  },
  {
   "cell_type": "code",
   "execution_count": 15,
   "outputs": [
    {
     "name": "stdout",
     "output_type": "stream",
     "text": [
      "Oudste bulldozer: 48 jaar\n"
     ]
    }
   ],
   "source": [
    "oldest_bulldozer = df[df['ProductGroup'] == 'WL']['MachineAgeYears'].max()\n",
    "print(f\"Oudste bulldozer: {oldest_bulldozer:.0f} jaar\")"
   ],
   "metadata": {
    "collapsed": false,
    "ExecuteTime": {
     "end_time": "2023-08-09T17:18:13.867522Z",
     "start_time": "2023-08-09T17:18:13.862208Z"
    }
   }
  },
  {
   "cell_type": "code",
   "execution_count": null,
   "outputs": [],
   "source": [],
   "metadata": {
    "collapsed": false
   }
  }
 ],
 "metadata": {
  "kernelspec": {
   "display_name": "Python 3",
   "language": "python",
   "name": "python3"
  },
  "language_info": {
   "codemirror_mode": {
    "name": "ipython",
    "version": 2
   },
   "file_extension": ".py",
   "mimetype": "text/x-python",
   "name": "python",
   "nbconvert_exporter": "python",
   "pygments_lexer": "ipython2",
   "version": "2.7.6"
  }
 },
 "nbformat": 4,
 "nbformat_minor": 0
}
